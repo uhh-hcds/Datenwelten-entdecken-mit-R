{
 "cells": [
  {
   "cell_type": "code",
   "execution_count": null,
   "id": "b0fbe70e-3749-4f91-883a-edec14733eef",
   "metadata": {
    "id": "b0fbe70e-3749-4f91-883a-edec14733eef",
    "vscode": {
     "languageId": "r"
    }
   },
   "outputs": [],
   "source": [
    "# Jupyter Notebook options\n",
    "\n",
    "# Set the default plot width for Jupyter Notebook display\n",
    "options(repr.plot.width = 16, repr.plot.height = 8)"
   ]
  },
  {
   "cell_type": "markdown",
   "id": "5aa1f19c-1eff-4c71-85d4-3d066131ede8",
   "metadata": {
    "editable": true,
    "id": "5aa1f19c-1eff-4c71-85d4-3d066131ede8",
    "tags": []
   },
   "source": [
    "# Datenbanken\n",
    "\n",
    "Wir haben bisher verschiedene Datenquellen in R kennengelernt – wir haben Daten über Pakete geladen, z. B. mit `library(palmerpenguins)`, aber auch Datensätze aus dem lokalen Laufwerk `read_csv(csv_file)` geladen. Ein großer Teil aller Daten liegt allerdings in Datenbanken. Daher ist es wichtig zu wissen, wie wir auf Daten aus Datenbanken zugreifen können. Natürlich könnte man auch jedes Mal die Admin-Person einer Datenbank fragen, ob sie uns einen *snapshot* der Datenbank als `.csv` exportiert. Das wäre dann aber sehr aufwendig!\n",
    "\n",
    "Daher werden wir in dieser Sitzung einen grundlegenden Einblick in SQL bekommen. SQL steht für *Structured Query Language* und ist eine der gängigsten Programmiersprachen für die Verwaltung und Operation von Datenbanken. SQL ist die *lingua franca* der Datenbanken und daher eine wichtige Sprache für Data Science Projekte. SQL kann jedoch auch sehr komplex werden – daher werde wir in dieser Sitzung nur die absoluten Basics von SQL kennenlernen.\n",
    "\n",
    "In R gibt es analog zu `dplyr` das Paket `dbplyr`, mit dem wir die bereits bekannten Funktionen von `dplyr` in SQL übersetzen können. Zusätzlich werden wir wieder das `tidyverse` und das Paket `DBI` benutzen. `DBI` ist ein Interface, mit dem wir auf Datenbanken zugreifen und mit SQL Abfragen durchführen können. Außerdem benutzen wir das Paket `duckdb`, mit dem wir eine eigene Datenbank auf unserem Computer simulieren können. `nycflights13` benutzen wir wieder als Datensatz. Zur besseren Übersichtlichkeit und damit für euch transparent ist welche Funktion aus welchem Paket kommt, verwenden wir in diesem Skript oft die Schreibweise `paketname::funktionsname()`. Das ist normalerweise nicht notwendig.\n",
    "\n",
    "Als erstes laden wir wieder die notwendigen Pakete:"
   ]
  },
  {
   "cell_type": "code",
   "execution_count": null,
   "id": "ccdab4d8-fafe-47ac-8b78-dff1e65784f6",
   "metadata": {
    "editable": true,
    "id": "ccdab4d8-fafe-47ac-8b78-dff1e65784f6",
    "tags": [],
    "vscode": {
     "languageId": "r"
    }
   },
   "outputs": [],
   "source": [
    "pacman::p_load(tidyverse,   # zum allgemeinen Datenhandling\n",
    "               DBI,         # für SQL-Abfragen\n",
    "               dbplyr,      # um dplyr-Funktionen in SQL zu \"übersetzen\"\n",
    "               duckdb,      # zur Simulation einer Datenbank\n",
    "               nycflights13 # als Beispieldaten\n",
    "              )"
   ]
  },
  {
   "cell_type": "markdown",
   "id": "db60c7d8-4f2c-45f5-84a7-2996a031fc1b",
   "metadata": {
    "id": "db60c7d8-4f2c-45f5-84a7-2996a031fc1b"
   },
   "source": [
    "## Datenbanken\n",
    "\n",
    "Auf der einfachsten Ebene kann man sich eine Datenbank als eine Sammlung von Tabellen vorstellen. Jede Tabelle besteht dabei aus Spalten, Zeilen und Werten (analog zu einem Dataframe). Es gibt drei große Unterschiede zwischen Datenbanken und Dataframes:\n",
    "\n",
    "* Datenbanktabellen werden auf einem Server gespeichert und können beliebig groß sein.\n",
    "> Dataframes werden im Arbeitsspeicher gespeichert und sind dadurch in ihrer Größe begrenzt.\n",
    "* Datenbanktabellen haben fast immer Indizes. Ähnlich wie das Inhaltsverzeichnis eines Buches ermöglicht ein Datenbankindex das schnelle Finden von interessanten Zeilen, ohne jede einzelne Zeile durchsehen zu müssen.\n",
    "> Dataframes und Tibbles haben nicht zwingend Indizes!\n",
    "* Die meisten klassischen Datenbanken sind darauf optimiert, Daten möglichst schnell abzurufen. Diese Datenbanken werden als zeilenorientiert bezeichnet, weil die Daten zeilenweise gespeichert werden. Dataframes in R sind spaltenweise aufgebaut (jede Spalte oder Variable ist in R ein Vektor und der Dataframe ist vom Prinzip her eine Liste in der verschidene Vektoren gleicher Länge miteinander verknüpft sind).\n",
    "\n",
    "Datenbanken werden von Datenbankverwaltungssystemen (kurz DBMS) betrieben. In großen Organisationen oder Unternehmen gibt es viele verschiedene Datenbanken, die teilweise auch hierarchisch sortiert sein müssen. Dafür gibt es in SQL sogenannte hierarchische Strukturen, die die Organisation von Daten erleichtern soll. Diese Hierarchie ermöglicht eine effiziente Organisation und Verwaltung von Daten in komplexen Datenbanksystemen.\n",
    "\n",
    "* eine **Tabelle** ist das grundlegende Element einer Datenbank und besteht aus Zeilen und Spalten. Jede Tabelle enthält Daten für bestimmte Themen. Z.B. könnte eine Tabelle namens \"Prüfungen\" Informationen wie Prüfungsdatum, Matrikelnummer und Note speichern. Eine andere Tabelle namens \"Studierende\" enthält dann vielleicht Matrikelnummer, Namen und Kontaktinformationen.\n",
    "* ein **Schema** ist ein logischer Container für Tabellen, Ansichten (sogenannte Views) und andere Datenbankobjekte. Es wird verwendet, um Objekte innerhalb einer Datenbank zu organisieren und zu gruppieren. Mehrere Tabellen können unter demselben Schema gruppiert werden, und Schemata können dazu verwendet werden, den Zugriff auf die darin enthaltenen Datenbankobjekte zu steuern. Z. B. könnte ein Schema namens \"Studierende\" Tabellen wie \"Persönliche Daten\", \"Prüfungen\" und \"Veranstaltungen\" enthalten.\n",
    "* ein **Katalog** ist eine noch höhere Ebene der Organisation und kann mehrere Schemata enthalten. Es ist auch möglich, dass ein Datenbanksystem mehrere Kataloge umfasst. Ein Katalog ist quasi wie eine große Bibliothek, und die Schemata sind die verschiedenen Abteilungen innerhalb dieser Bibliothek. Jeder Katalog kann seine eigenen Sicherheits-, Zugriffs- und Benutzereinstellungen haben.\n",
    "\n",
    "\n",
    "\n",
    "## Mit einer Datenbank verbinden\n",
    "\n",
    "Um sich in R mit einer Datenbank zu verbinden, werden zwei Pakete benötigt:\n",
    "\n",
    "* Es wird immer das Paket `DBI` (Database Interface) benötigt. `DBI` enthält alle allgemeinen Befehle, um sich mit einer Datenbank zu verbinden, Daten zu schreiben oder zu laden, SQL-Abfragen durchzuführen usw.\n",
    "* Zusätzlich wird je nach Datenbanktyp ein spezielles Paket benötigt. Dieses Paket übersetzt die speziellen Befehle je nach Datenbanktyp.\n",
    "\n",
    "Im Folgenden sehen wir zwei Beispiele für RMariaDB und RPostgres (zwei verschiedene Typen von SQL-Datenbanken). Keine Sorge, das sind nur Beispiele! Sie dienen dazu, dass ihr grob schon mal gesehen habt, wie solcher Code aussehen könnte:\n",
    "\n",
    "```\n",
    "con <- DBI::dbConnect(\n",
    "  RMariaDB::MariaDB(), \n",
    "  username = \"foo\"\n",
    ")\n",
    "con <- DBI::dbConnect(\n",
    "  RPostgres::Postgres(), \n",
    "  hostname = \"databases.mycompany.com\", \n",
    "  port = 1234\n",
    ")\n",
    "```\n",
    "\n",
    "### `duckdb`\n",
    "\n",
    "In dieser Sitzung auf eine \"richtige\" Datenbank auf einem Server zuzugreifen, ist leider nicht möglich. Zum Glück gibt es für unsere Zwecke das Paket `duckdb`, mit dem wir eine Datenbank lokal simulieren können. Diese Datenbank lebt vollständig im Paket `duckdb` und wird bei jedem Schließen von R ebenfalls wieder geschlossen. Dadurch können wir erste Erfahrungen im Umgang mit Datenbanken sammeln!\n",
    "\n",
    "Mit dem folgenden Befehl können wir uns mit `duckdb()` zunächst eine leere Datenbank anlegen und uns anschließend mit `dbConnect()` mit ihr verbinden."
   ]
  },
  {
   "cell_type": "code",
   "execution_count": null,
   "id": "2d4e4970-b904-4194-ac1a-89bc123d01a6",
   "metadata": {
    "id": "2d4e4970-b904-4194-ac1a-89bc123d01a6",
    "vscode": {
     "languageId": "r"
    }
   },
   "outputs": [],
   "source": [
    "con <- duckdb::duckdb() %>%\n",
    "    DBI::dbConnect()"
   ]
  },
  {
   "cell_type": "markdown",
   "id": "47c9c34d-a545-478f-a5a4-02dad287bf53",
   "metadata": {},
   "source": [
    "Wenn wir mit einer Datenbank interagieren wollen, müssen wir zunächst eine Verbindung zu ihr herstellen. Die ganze \"Kommunikation\" mit der Datenbank läuft dann über diese Verbindung. Die Verbindung zur Datenbank haben wir hier `con` genannt. Wir sind ja etwas schreibfaul und das ist eine übliche Abkürzung für \"connection\"."
   ]
  },
  {
   "cell_type": "markdown",
   "id": "5d9e905d-fd1f-44b4-b0fc-c55fc1be4051",
   "metadata": {},
   "source": [
    "> **`duckdb` permanent speichern**\n",
    "\n",
    ">Es ist übrigens möglich, eine mit `duckdb` erstellte Datenbank auch **permanent** auf der eigenen Festplatte zu speichern. `duckdb` ist als high-performance database in der Lage, Gigabytes an Data mit großer Geschwindigkeit zu handeln. Wenn ihr in einem richtigen Data Science Projekt eine Datenbank braucht, könnt ihr daher gut auf `duckdb` zurückgreifen. Mithilfe des Arguments `dbdir = path_to_your_database` kann `duckdb` auf die Festplatte geschrieben werden. Das wollen wir in dieser Sitzung allerdings nicht machen, daher wird der Code hier nur kurz gezeigt.\n",
    "\n",
    ">```con <- DBI::dbConnect(duckdb::duckdb(), dbdir = \"path_to_your_database/duckdb\")```\n",
    "\n",
    ">Wenn ihr `duckdb` in einem echten Projekt benutzt, ist es außerdem sinnvoll, sich die Funktion `duckdb_read_csv()` anzuschauen. Mit dieser können csv-Dateien unkompliziert in die `duckdb`-Datenbank eingelesen werden."
   ]
  },
  {
   "cell_type": "markdown",
   "id": "8097ccf0-5f43-4d52-a16e-07469828debe",
   "metadata": {
    "id": "8097ccf0-5f43-4d52-a16e-07469828debe"
   },
   "source": [
    "## Daten in die Datenbank schreiben\n",
    "\n",
    "Mit der Funktion `duckdb()`, die wir eben verwendet haben, wird jedes Mal eine neue Datenbank initialisiert. Es liegen also noch keine Daten darin. Um mit der Datenbank zu arbeiten, schreiben wir zwei Datensätze als Tabellen aus dem Paket `nycflights13` in die Datenbank. Das geht über den Befehl `dbWriteTable()`:"
   ]
  },
  {
   "cell_type": "code",
   "execution_count": null,
   "id": "1aaab04a-23ea-4417-b02e-7a299d76cbd2",
   "metadata": {
    "id": "1aaab04a-23ea-4417-b02e-7a299d76cbd2",
    "vscode": {
     "languageId": "r"
    }
   },
   "outputs": [],
   "source": [
    "con %>%\n",
    "    dbWriteTable(\"flights\", nycflights13::flights)\n",
    "\n",
    "con %>%\n",
    "    dbWriteTable(\"planes\", nycflights13::planes)"
   ]
  },
  {
   "cell_type": "markdown",
   "id": "f2fe97e0-1ca8-422e-83e2-5daef5e79d48",
   "metadata": {
    "id": "f2fe97e0-1ca8-422e-83e2-5daef5e79d48"
   },
   "source": [
    "### `DBI` basics\n",
    "\n",
    "Wir können jetzt grundlegende Funktion von `DBI` benutzen, um Informationen über unsere Datenbank zu erhalten. Z. B. können wir mit `dbListTables()` alle Tabellen der Datenbank ausgeben oder mit `dbReadTable()` eine einzelne Tabelle auslesen. Die Funktion `as_tibble()` verwandelt dabei den zurückgegebenen `data.frame` von `dbReadTable()` in einen `tibble`, sodass wir wie gewohnt damit arbeiten können."
   ]
  },
  {
   "cell_type": "code",
   "execution_count": null,
   "id": "00479d15-fb1a-4ce4-b8ec-426a121a5e2f",
   "metadata": {
    "id": "00479d15-fb1a-4ce4-b8ec-426a121a5e2f",
    "outputId": "32854788-7bd1-4d96-d71b-76cd3d35db47",
    "vscode": {
     "languageId": "r"
    }
   },
   "outputs": [],
   "source": [
    "con %>%\n",
    "    dbListTables()"
   ]
  },
  {
   "cell_type": "code",
   "execution_count": null,
   "id": "5d497259-63f7-4421-aed7-c16ab4871510",
   "metadata": {},
   "outputs": [],
   "source": [
    "con %>%\n",
    "    dbReadTable(\"flights\") %>%\n",
    "    as_tibble() %>%\n",
    "    print()"
   ]
  },
  {
   "cell_type": "markdown",
   "id": "dfb9519a-02b4-4f7d-841f-24d44d7a5d50",
   "metadata": {},
   "source": [
    "Wie wir sehen können, haben wir den bereits bekannten Datensatz `nycflights13::flights` erfolgreich in unsere Datenbank geschrieben. Wir können auch bereits eine kleine SQL-Abfrage mithilfe von `dbGetQuery()` benutzen, um Daten aus unserer SQL-Datenbank abzurufen. SQL ist\n",
    "eine eigene Sprache, mit einer eigenen Syntax. Der Funktion `dbGetQuery()` kann man einfach einen Text übergeben, der in SQL geschreiben wurde:"
   ]
  },
  {
   "cell_type": "code",
   "execution_count": null,
   "id": "14417265-b3c6-4f16-952c-aad882c61f2d",
   "metadata": {},
   "outputs": [],
   "source": [
    "sql <- \"\n",
    "  SELECT flight, origin, dest, time_hour, dep_delay\n",
    "  FROM flights \n",
    "  WHERE dep_delay > 100\n",
    "\"\n",
    "con %>%\n",
    "    DBI::dbGetQuery(sql) %>%\n",
    "    as_tibble() %>%\n",
    "    print()"
   ]
  },
  {
   "cell_type": "markdown",
   "id": "84ec5fe3-8eb5-4465-969e-f2b64b926cd7",
   "metadata": {},
   "source": [
    "Keine Sorge, wenn du bisher noch kein SQL gelesen hast! Wir werden im Folgenden einige grundsätzliche Funktionen kennenlernen. Wenn du dir den SQL-Code sorgfältig durchliest, wirst du vielleicht raten, dass der Code fünf Spalten aus dem `nycflights13::flights`Datensatz auswählt und alle Reihen zurückgibt, die mehr als 100 Minuten Verspätung haben."
   ]
  },
  {
   "cell_type": "markdown",
   "id": "20eecea9-c5ad-4660-903e-cf1d82ab2c8b",
   "metadata": {
    "id": "20eecea9-c5ad-4660-903e-cf1d82ab2c8b"
   },
   "source": [
    "## Das Zusammenspiel von SQL und `dbplyr`\n",
    "\n",
    "Im nächsten Schritt werden wir `dbplyr` und damit auch weitere Aspekte von SQL kennenlernen. `dbplyr` ist ein sogenanntes `dplyr` **backend**. Das bedeutet, dass wir `dplyr`-Code schreiben können, der dann in SQL übersetzt wird. Das ist für uns sehr praktisch, da wir bereits bekannte Funktionen schreiben können und uns anschließend den übersetzten SQL-Code anschauen können.\n",
    "\n",
    "Um `dbplyr` zu benutzen, müssen wir als erstes mithilfe von `tbl()` ein Objekt erzeugen, das einer Datenbanktabelle entspricht."
   ]
  },
  {
   "cell_type": "code",
   "execution_count": null,
   "id": "1621baa4-daae-4cdd-ba21-9284deae4b40",
   "metadata": {},
   "outputs": [],
   "source": [
    "flights_db <- tbl(con, \"flights\")\n",
    "planes_db <- tbl(con, \"planes\")"
   ]
  },
  {
   "cell_type": "markdown",
   "id": "eae9e06f-d8f2-48d8-be03-7ea9e981acd3",
   "metadata": {},
   "source": [
    "> `flights_db` und `nycflights13::flights` enthalten jetzt zwar die gleichen Daten, sind aber zwei unterschiedliche Objekte! Das können wir uns gut mit der Funktion `class()` anschauen, die uns den Typ eines Objekts zurückgibt:"
   ]
  },
  {
   "cell_type": "code",
   "execution_count": null,
   "id": "8d4a9bbd-7308-4ba1-ba91-2c0b98c147a7",
   "metadata": {},
   "outputs": [],
   "source": [
    "class(flights_db)\n",
    "class(flights)"
   ]
  },
  {
   "cell_type": "markdown",
   "id": "2541ed0f-063b-4fc3-b9a0-634056613ef8",
   "metadata": {},
   "source": [
    "Wie wir sehen können, ist `flights_db` eine `tbl_duckdb_connection`, während `flights` ein bereits bekannter `data.frame` ist."
   ]
  },
  {
   "cell_type": "markdown",
   "id": "0e382291-900d-4c2b-9864-b39331c75bed",
   "metadata": {},
   "source": [
    "Wir können jetzt wie gewohnt die `dplyr`-Befehle auf diesen Datenbank-Objekten ausführen. "
   ]
  },
  {
   "cell_type": "code",
   "execution_count": null,
   "id": "ca377836-6d8b-4741-b728-5e5478a32416",
   "metadata": {},
   "outputs": [],
   "source": [
    "flights_db %>%\n",
    "    filter(dep_time > 100) "
   ]
  },
  {
   "cell_type": "markdown",
   "id": "4ee2631b-4328-4a26-9750-bc5615d86609",
   "metadata": {},
   "source": [
    "Wenn wir an die Pipe die Funktion `show_query()` dranhängen, wird uns stattdessen der übersetzte SQL-Code angezeigt. Das ist praktiscch, weil wir so etwas über SQL lernen können:"
   ]
  },
  {
   "cell_type": "code",
   "execution_count": null,
   "id": "d2e6c1de-b4ed-4188-894b-34e009e49618",
   "metadata": {},
   "outputs": [],
   "source": [
    "flights_db %>%\n",
    "    filter(dep_time > 100) %>%\n",
    "    show_query()"
   ]
  },
  {
   "cell_type": "markdown",
   "id": "e9a28d2f-de37-48f4-a93f-fab19e3d417b",
   "metadata": {},
   "source": [
    "Da SQL-Datenbanken typischerweise sehr groß sind, sucht SQL nicht bei jeder Abfrage immer alle Zeilen heraus. Dafür müssen wir das explizit mithilfe des Befehls `collect()` angeben! Damit werden alle Ergebnisse als `tibble` zurückgegeben!"
   ]
  },
  {
   "cell_type": "code",
   "execution_count": null,
   "id": "1c74f840-6fc8-4a2a-b597-e457508206c5",
   "metadata": {
    "id": "1c74f840-6fc8-4a2a-b597-e457508206c5",
    "vscode": {
     "languageId": "r"
    }
   },
   "outputs": [],
   "source": [
    "flights_db %>%\n",
    "    filter(dep_time > 100) %>%\n",
    "    collect() %>%\n",
    "    head(5) # print only the first 5 rows"
   ]
  },
  {
   "cell_type": "markdown",
   "id": "0e75df06-4dc5-4ffe-9ba0-1176441ed7af",
   "metadata": {},
   "source": [
    "Normalerweise werdet ihr `dbplyr` benutzen, um Daten aus SQL-Datenbanken auszulesen. Diese Datenbanken sind teilweise riesig, daher ist es wesentlich performanter (schneller), zunächst grundlegende Filter- und Aggregationsfunktionen durchzuführen. Dafür könnt ihr dann die bekannten Funktionen von `dplyr` benutzen. Sobald die Daten gefiltert und aggregiert sind und die Größe des Datensatzes geschrumpft ist, könnt ihr diese dann mithilfe von `collect()` in einen in-memory `tibble` laden und die Arbeit mit R fortsetzen."
   ]
  },
  {
   "cell_type": "markdown",
   "id": "69b5568d-afdb-452a-850a-df2d28b3b655",
   "metadata": {
    "id": "69b5568d-afdb-452a-850a-df2d28b3b655"
   },
   "source": [
    "### SQL basics\n",
    "\n",
    "Die *top-level components* von SQL sind sogenannte **statements**. Häufig vorkommende statements sind `CREATE` für das Erstellen neuer Tabellen, `INSERT` für das Hinzufügen von Daten und `SELECT` für das Abfragen von Daten. Wir werden uns in dieser Übung auf `SELECT` beschränken, da wir in einem Data Science Projekt vor allem Daten abfragen werden.\n",
    "\n",
    "Eine **Query** (Abfrage) besteht aus sogenannte **clauses**. Es gibt fünf wichtige clauses, die wir im folgenden kennenlernen werden: \n",
    "- `SELECT` = Welche Daten (Variablen) sollen ausgewählt werden?\n",
    "- `FROM` = Woher sollen diese Daten kommen? In welcher Tabelle der Datenbank sind sie zu finden?\n",
    "- `WHERE` = Sollen die Daten nach einem bestimmten Kriterium ausgewählt werden? (entspricht *filter*)\n",
    "- `ORDER BY` = Sollen die Daten sortiert werden? (entspricht *arrange*)\n",
    "- `GROUP BY` = Sollen die Daten irgendwie gruppiert werden? (entspricht *group_by*)\n",
    "\n",
    "In jeder Query muss mindestens `SELECT` und `FROM` vorkommen. Die einfachste Abfrage ist es, jedes Element aus einer Tabelle mithilfe von `SELECT * FROM TABLE` abzufragen. Das `*` symbolisiert hierbei, dass wir alle Elemente abfragen wollen. Mit `show_query()` können wir uns diesen einfachsten SQL-Befehl, der eine ganze Tabelle zurück gibt, ausgeben lassen. Im Folgenden werden wir öfters `dbplyr`-Code ausführen und uns dann den in SQL übersetzten Befehl anzeigen lassen."
   ]
  },
  {
   "cell_type": "code",
   "execution_count": null,
   "id": "b207e570-92d8-4cb3-a1c7-50b478f565b1",
   "metadata": {},
   "outputs": [],
   "source": [
    "flights_db %>% show_query()"
   ]
  },
  {
   "cell_type": "markdown",
   "id": "ddd35f35-fbac-4118-97c6-5eddaa2ca458",
   "metadata": {},
   "source": [
    "Jetzt machen wir es komplexer. Im Folgenden Code sieht man, wie die dplyer-Funktionen `filter()` und `arrange()` in SQL´s `WHERE` und `ORDER BY` übersetzt werden:"
   ]
  },
  {
   "cell_type": "code",
   "execution_count": null,
   "id": "6af84934-a633-4da9-b6c8-1fbbed905fb6",
   "metadata": {},
   "outputs": [],
   "source": [
    "flights_db %>%\n",
    "  filter(dest == \"IAH\") %>%\n",
    "  arrange(dep_delay) %>%\n",
    "  show_query()"
   ]
  },
  {
   "cell_type": "markdown",
   "id": "b86c0ea7-c77f-4a6c-8419-b8c72005c484",
   "metadata": {},
   "source": [
    "`GROUP BY` funktioniert ähnlich wie `group_by()` von `dplyr` – es erzeugt eine Zusammenfassung und aggregiert anschließend die Daten:"
   ]
  },
  {
   "cell_type": "code",
   "execution_count": null,
   "id": "b2fdd2d2-5320-47ec-be7b-9a6f5233b336",
   "metadata": {},
   "outputs": [],
   "source": [
    "flights_db %>%\n",
    "  group_by(dest) %>%\n",
    "  summarize(dep_delay = mean(dep_delay, na.rm = TRUE)) %>%\n",
    "  show_query()"
   ]
  },
  {
   "cell_type": "markdown",
   "id": "44a37770-b15d-4cb6-a100-40766964a26b",
   "metadata": {},
   "source": [
    "An dieser Stelle sehen wir beispielsweise schon, wie `dbplyr` die Funktion `mean()` innerhalb des `summarize()` in die SQL-Funktion `AVG()` übersetzt. Keine Sorge, ihr müsst an dieser Stelle noch nicht alles lesen können. Dafür schauen wir uns gleich die einzelnen Befehle im Detail an.\n",
    "\n",
    "Es gibt zwei wichtige Unterschiede zwischen `dplyr`-Befehlen und `SELECT` clauses:\n",
    "\n",
    "* In SQL ist die Groß- und Kleinschreibung egal. Es ist möglich, `select`, `SELECT` oder sogar `sElEcT` zu schreiben. Eine gängige Notation ist jedoch, SQL keywords komplett als uppercase zu schreiben, also `SELECT`.\n",
    "* In SQL ist jedoch die Reihenfolge wichtig. Diese fünf clauses müssen immer in der Reihenfolge `SELECT`, `FROM`, `WHERE`, `GROUP BY`, `ORDER BY` geschrieben werden, auch wenn das intuitiv nicht der Reihenfolge der Ausführung entspricht.\n",
    "\n",
    "> An dieser Stelle sei auch erwähnt, dass SQL zwar eine absolute Standardsprache darstellt, es aber trotzdem sehr komplex werden kann und es viele unterschiedliche Datenbanktypen gibt, die dann wiederum feine Unterschiede untereinander haben. Für uns ist das erstmal nicht weiter schlimm, weil `dbplyr` jeweils versucht, je nach DBMS richtig zu übersetzen."
   ]
  },
  {
   "cell_type": "markdown",
   "id": "7a335295-d5ae-4d04-8d6a-34a14eed5ce7",
   "metadata": {},
   "source": [
    "### `SELECT`\n",
    "\n",
    "`SELECT` ist der Hauptteil jeder Datenabfrage und führt die Arbeit von `select()`, `mutate()`, `rename()` `relocate()`und`summarise()` aus.\n",
    "\n",
    "`select()`, `rename()` und `relocate()` werden auch relativ direkt zu `SELECT` übersetzt:"
   ]
  },
  {
   "cell_type": "code",
   "execution_count": null,
   "id": "7372beef-6ad0-4348-b893-2dc48d041953",
   "metadata": {},
   "outputs": [],
   "source": [
    "planes_db %>%\n",
    "  select(tailnum, type, manufacturer, model, year) %>%\n",
    "  show_query()\n",
    "\n",
    "planes_db %>%\n",
    "  select(tailnum, type, manufacturer, model, year) %>%\n",
    "  rename(year_built = year) %>%\n",
    "  show_query()\n",
    "\n",
    "planes_db %>%\n",
    "  select(tailnum, type, manufacturer, model, year) %>% \n",
    "  relocate(manufacturer, model, .before = type) %>%\n",
    "  show_query()"
   ]
  },
  {
   "cell_type": "markdown",
   "id": "88a10381-864a-4b17-86b2-993c05bcb4f1",
   "metadata": {},
   "source": [
    "An diesem Beispiel könnt ihr auch sehen, wie SQL Spalten umbenennt. Das umbenennen wird in SQL als *aliasing* und funktioniert mithilfe des Operators `AS`.\n",
    "\n",
    "> Außerdem werden in dem obigen Beispiel die Spalten \"year\" und \"type\" in Anführungszeichen geschrieben. Das liegt einfach daran, dass beide Wörter sogenannte *reserved words* in `duckdb` sind. Innerhalb des Pakets stehen diese Worte für bestimmte Befehle. `dbplyr` ist schlau genug, diese mithilfe der Anführungszeichen als Spaltennamen zu kennzeichnen, sodass es keine Verwirrung gibt.\n",
    "\n",
    "Die Übersetzung von `mutate()` funktioniert relativ ähnlich:"
   ]
  },
  {
   "cell_type": "code",
   "execution_count": null,
   "id": "3dc2d7a0-aa12-4456-9a30-8564dee4f5ec",
   "metadata": {},
   "outputs": [],
   "source": [
    "flights_db %>%\n",
    "  mutate(\n",
    "    speed = distance / (air_time / 60)\n",
    "  ) %>%\n",
    "  show_query()"
   ]
  },
  {
   "cell_type": "markdown",
   "id": "c87d28f5-af39-4563-8f75-939ef9fca624",
   "metadata": {},
   "source": [
    "\n",
    "_____\n",
    "<div style=\"background-color: #efe3fd\"><h1>Präsenzteil</h1></div> \n",
    "\n",
    "\n",
    "## Das Zusammenspiel von SQL und `dbplyr`"
   ]
  },
  {
   "cell_type": "markdown",
   "id": "ba6edbd5-e381-4b47-9694-6662532bfd53",
   "metadata": {},
   "source": [
    "### `FROM`\n",
    "\n",
    "Mithilfe von `FROM` wird die Quelle der Abfrage definiert. In unserem sehr einfachen Anwendungsfall wird dort immer nur die Tabelle abgerufen, auf die wir zugreifen können. Kompliziertere Beispiele lassen wir hier aus. Aber natürlich wäre es möglich gleichzeitig Daten aus verschiedenen Tabellen abzufragen."
   ]
  },
  {
   "cell_type": "markdown",
   "id": "856032fc-4372-4520-aa94-c731c228472c",
   "metadata": {},
   "source": [
    "### `GROUP BY`\n",
    "\n",
    "`group_by()` wird direkt zu `GROUP BY` übersetzt. `summarise()` verschwindet in gewisser Weise, die Funktionen innerhalb von `summarise()` werden aber das `SELECT` clause verschoben und übersetzt:"
   ]
  },
  {
   "cell_type": "code",
   "execution_count": null,
   "id": "ebfd8b40-0bfd-46f4-9e4f-1fd404b7bc25",
   "metadata": {},
   "outputs": [],
   "source": [
    "flights_db %>%\n",
    "  group_by(dest) %>%\n",
    "  summarise(\n",
    "    n = n(),\n",
    "    avg_delay = mean(dep_delay, na.rm = TRUE)\n",
    "  ) %>%\n",
    "  show_query()"
   ]
  },
  {
   "cell_type": "markdown",
   "id": "42eaa901-680a-49b0-a113-058f9862c39b",
   "metadata": {},
   "source": [
    "Wir werden später nochmal kurz darauf eingehen, was hier mit `n()` und `mean()` passiert."
   ]
  },
  {
   "cell_type": "markdown",
   "id": "75209ed2-ce98-4433-ab81-14e49298f895",
   "metadata": {},
   "source": [
    "### `WHERE`\n",
    "\n",
    "`filter()` wird direkt in den `WHERE` clause übersetzt:"
   ]
  },
  {
   "cell_type": "code",
   "execution_count": null,
   "id": "4821702b-e84b-4dbe-9e8d-6480512ede1a",
   "metadata": {},
   "outputs": [],
   "source": [
    "flights_db %>%\n",
    "  filter(dest == \"IAH\" | dest == \"HOU\") %>%\n",
    "  show_query()\n",
    "\n",
    "flights_db %>%\n",
    "  filter(arr_delay > 0 & arr_delay < 20) %>%\n",
    "  show_query()"
   ]
  },
  {
   "cell_type": "markdown",
   "id": "9fb4650c-9114-4801-9f06-c184b79e0907",
   "metadata": {},
   "source": [
    "Wichtige Details zu Operatoren in SQL:\n",
    "\n",
    "* `|` in R entspricht `OR` in SQL\n",
    "* `&` in R entspricht `AND` in SQL\n",
    "* SQL benutzt `=` für Vergleiche und nicht `==` wie in R! Das kann ziemlich verwirrend sein.\n",
    "* SQL benutzt zwingend `''` um Strings zu kennzeichnen, und nicht `\"\"`. In SQL werden die doppelten Anführungszeichen `\"\"` dafür benutzt, Variablen zu kennzeichnen!\n",
    "* `%in%` kann über `IN` realisiert werden:"
   ]
  },
  {
   "cell_type": "code",
   "execution_count": null,
   "id": "5a9af451-52e7-4313-adbe-c6e615f17833",
   "metadata": {},
   "outputs": [],
   "source": [
    "flights_db %>%\n",
    "  filter(dest %in% c(\"IAH\", \"HOU\")) %>%\n",
    "  show_query()"
   ]
  },
  {
   "cell_type": "markdown",
   "id": "18b4e540-c7af-4e51-8fab-a5f0346686d0",
   "metadata": {},
   "source": [
    "SQL benutzt `NULL` anstelle von `NA`. `NULL`-Werte verhalten sich analog wie `NA`-Werte. Außerdem sind einige Details anders, auf die wir an dieser Stelle aber nicht eingehen werden. Grundsätzlich könnt ihr die gleichen Funktionen in `dbplyr` verwenden, wie ihr sie auch für `NA` in R verwenden würdet:"
   ]
  },
  {
   "cell_type": "code",
   "execution_count": null,
   "id": "f4e06d5f-0bb5-4743-b8f6-2a7f2a51451a",
   "metadata": {},
   "outputs": [],
   "source": [
    "flights_db %>%\n",
    "  filter(!is.na(dep_delay)) %>%\n",
    "  show_query()"
   ]
  },
  {
   "cell_type": "markdown",
   "id": "700db82d-5ddd-4127-8d6d-957990d2eaaa",
   "metadata": {},
   "source": [
    "Diese Abfrage zeigt auch, warum `dbplyr` manchmal nicht ganz so gut funktioniert. Der SQL Code ist zwar korrekt, allerdings viel komplizierter, als er sein müsste und deshalb ist er schwer nachzuvollziehen. Stattdessen könnte man auch einen einfacheren Code schreiben:\n",
    "\n",
    "```\n",
    "WHERE \"dep_delay\" IS NOT NULL\n",
    "```\n",
    "\n",
    "Zum Glück gibt es Dokumentationen, in denen du alle wichtigen Details nachschlagen kannst. Deshalb musst du an dieser Stelle nicht alle Operatoren von SQL auswendig lernen. Trotzdem ist es hilfreich, wenn ihr diese Funktionen und Operatoren schon einmal gesehen habt. Generell unterscheiden sich verschiedene Programmiersprachen ohnehin oft in den konkreten Befehlen, die grundsätzliche Logik lernt ihr aber bereits hier kennen und könnt diese dann transferieren."
   ]
  },
  {
   "cell_type": "markdown",
   "id": "bf413653-e726-4f45-8b3f-328f5a8ef221",
   "metadata": {},
   "source": [
    "### `ORDER BY`\n",
    "\n",
    "Um Reihen zu ordnen, können wir in SQL den Befehl `ORDER BY` benutzen, der direkt von `arrange()` übersetzt wird. An dem folgenden Code-Beispiel sieht man ganz gut, wie auch Argumente übersetzt werden, z. B. von `desc()` zu `DESC`. Tatsächlich sind viele Funktionsnamen von `dplyr` direkt von SQL inspiriert und daher an manchen Stellen gleich!"
   ]
  },
  {
   "cell_type": "code",
   "execution_count": null,
   "id": "94112d7d-ea01-4e8f-b44a-8f15bd9c63ea",
   "metadata": {},
   "outputs": [],
   "source": [
    "flights_db %>%\n",
    "  arrange(year, month, day, desc(dep_delay)) %>%\n",
    "  show_query()"
   ]
  },
  {
   "cell_type": "markdown",
   "id": "91c4c53e-1b9b-4bb6-9edd-53b011df6f47",
   "metadata": {},
   "source": [
    "### Subqueries\n",
    "\n",
    "Manchmal wird es nicht möglich sein, eine `dplyr` Pipe direkt in eine einzelne `SELECT`-Query zu übersetzen. Für diese Fälle gibt es sogenannte *subqueries*. Diese benutzen als Datenquelle (also hinter dem `FROM`-clause) eine weitere `SELECT`-Abfrage statt einer ganzen Tabelle.\n",
    "\n",
    "Ein Hauptgrund für subqueries sind Hindernisse in SQL. Z.B. kann `SELECT` keine Spalten auswählen, die gerade erst erzeugt wurden. In einer `dplyr` Pipe wäre das möglich, sodass `dbplyr` dann subqueries verwendet, um die eingegebenen Pipes zu imitieren:"
   ]
  },
  {
   "cell_type": "code",
   "execution_count": null,
   "id": "5ceef281-db0c-4a4d-90ef-41304c938955",
   "metadata": {},
   "outputs": [],
   "source": [
    "flights_db %>%\n",
    "  mutate(\n",
    "    year1 = year + 1,\n",
    "    year2 = year1 + 1\n",
    "  ) %>%\n",
    "    show_query"
   ]
  },
  {
   "cell_type": "markdown",
   "id": "f7a5fea7-d051-4124-9f99-a9bbb727aedf",
   "metadata": {},
   "source": [
    "Manchmal wird es auch passieren, dass `dbplyr` eine subquery erzeugt, wo gar keine notwendig gewesen wäre. Auch `dbplyr` ist noch nicht vollständig auf Übersetzungen von `dplyr` in SQL trainiert. Daher ist es sinnvoll, bei einer weiteren Beschäftigung mit SQL auch andere Wissensquellen in Betracht zu ziehen!"
   ]
  },
  {
   "cell_type": "markdown",
   "id": "fb639129-028a-4450-99ad-d6afc39de181",
   "metadata": {},
   "source": [
    "**Fragen**\n",
    "1. Wie wird `distinct()` in SQL übersetzt? Und wie `head()`?"
   ]
  },
  {
   "cell_type": "code",
   "execution_count": null,
   "id": "9fe5fae6-e0fb-42e3-86c9-51ba8fcc14cb",
   "metadata": {},
   "outputs": [],
   "source": []
  },
  {
   "cell_type": "markdown",
   "id": "48e78351-c3e3-4b7a-9f6a-2630e9d9fe4b",
   "metadata": {},
   "source": [
    "2. Versucht die beiden SQL-queries im Kopf durchzudenken und zu überlegen, was diese tun. Anschließend reproduziert den Code mithilfe von `dbplyr`.\n",
    "\n",
    "```\n",
    "SELECT * \n",
    "FROM flights\n",
    "WHERE dep_delay < arr_delay\n",
    "```\n",
    "\n",
    "```\n",
    "SELECT *, distance / (airtime / 60) AS speed\n",
    "FROM flights\n",
    "```"
   ]
  },
  {
   "cell_type": "markdown",
   "id": "7bfd2e0a-205e-4695-96dc-3e5196ccbe23",
   "metadata": {},
   "source": [
    "3. Findet alle Flüge aus der Tabelle `flights_db`, die eine Verspätung von mehr als 30 Minuten hatten."
   ]
  },
  {
   "cell_type": "code",
   "execution_count": null,
   "id": "f3ebe377-d50e-4517-ab88-a32b04e6eb4f",
   "metadata": {},
   "outputs": [],
   "source": []
  },
  {
   "cell_type": "markdown",
   "id": "65901b3d-193f-43b9-8a5e-0353dae272a9",
   "metadata": {},
   "source": [
    "4. Verwendet `dbplyr`, um die durchschnittliche Verspätung (sowohl `dep_delay` als auch `arr_delay`) pro Fluggesellschaft `carrier` zu berechnen. Überlegt euch **vorher**, wie der dazugehörige SQL-Code aussehen wird und vergleicht dann eure Ergebnisse!"
   ]
  },
  {
   "cell_type": "code",
   "execution_count": null,
   "id": "3128254f-2e41-4300-b55f-1e4fde63ba76",
   "metadata": {},
   "outputs": [],
   "source": []
  },
  {
   "cell_type": "markdown",
   "id": "2212c4b3-00c8-4abe-8354-a458fd0db3a1",
   "metadata": {},
   "source": [
    "## Weitere Funktionen von R in SQL übersetzen\n",
    "\n",
    "Bis hierhin haben wir grundlegende SQL-Befehle (clauses) für die Abfrage (query) von Daten kennengelernt. Natürlich kennt SQL als Befehle nicht nur die bisher kennengelernten, grundlegenden clauses. Wie sieht z.B. ein `mean(x)` innerhalb von `summarise()` in SQL aus? Was passiert wenn wir mit einzelnen Spalten arbeiten wollen, statt mit ganzen Tabellen?\n",
    "\n",
    "Auch in diesem Abschnitt werden wir wieder `dplyr`-Code nach SQL übersetzen. Wie wir gleich sehen werden, haben manche Funktionen, wie z.B. `mean()`, relativ einfache Übersetzungen. Andere Funktionen wie `median()` sind sehr viel komplexer. Das liegt typischerweise daran, dass manche Befehle vor allem in der Statistik benutzt werden, für Datenbanken aber nicht unbedingt relevant sind, also auch kaum genutzt werden. \n",
    "\n",
    "> Wir haben leider nicht die Zeit, in aller Tiefe auf alle SQL-Befehle einzugehen. Keine Sorge, wenn ihr nicht direkt alles versteht – es geht hier wieder eher darum, dass ihr ein bisschen Gefühl für die Sprache bekommt und Begriffe schon einmal gesehen habt. Selbst, wenn ihr mal mit SQL arbeiten müsst, könnt ihr ja auch einfach `dbplyr` benutzen, und eure R-Skills anwenden, statt nochmal SQL zu lernen! Außerdem ergibt sich die Logik einer Programmiersprache auch manchmal mit der Zeit – je mehr man davon gesehen hat, desto einfacher wird es! Überfliegt den folgenden Abschnitt gern, und wenn ihr sehr motiviert seid, könnt ihr auch gern ein bisschen zu SQL recherchieren – über eine Suchmaschine oder auch direkt einen Chatbot!\n",
    "\n",
    "Als Erstes schauen wir uns die beiden Funktionen `mean()` und `median()` innerhalb eines `summarise()`-Statements direkt einmal an:"
   ]
  },
  {
   "cell_type": "code",
   "execution_count": null,
   "id": "e4e026ac-c1e5-4232-b8ab-9c4e1088ad19",
   "metadata": {},
   "outputs": [],
   "source": [
    "flights_db %>%\n",
    "    group_by(year, month, day) %>%\n",
    "        summarise(\n",
    "        mean = mean(arr_delay, na.rm = TRUE),\n",
    "        median = median(arr_delay, na.rm = TRUE),\n",
    "        .groups = \"drop\"\n",
    "    ) %>%\n",
    "    show_query()"
   ]
  },
  {
   "cell_type": "markdown",
   "id": "6848bacb-cfbb-4537-a0ea-b5e09b1a4dfa",
   "metadata": {},
   "source": [
    "Wie wir sehen können, benutzt SQL den Befehl `AVG` für `mean()`. Die Darstellung eines Medians ist schon wesentlich komplizierter! \n",
    "\n",
    "`mutate()` können wir ebenfalls in SQL übersetzen. Diese ergibt dann eine sogenannte **window function**. Dafür wird der SQL-Befehl `OVER` benutzt, auf diesen wir an dieser Stelle nicht weiter eingehen wollen:"
   ]
  },
  {
   "cell_type": "code",
   "execution_count": null,
   "id": "df553f47-d7ae-4471-8f79-116343d37ce3",
   "metadata": {},
   "outputs": [],
   "source": [
    "flights_db %>%\n",
    "    group_by(year, month, day) %>%\n",
    "    mutate(\n",
    "        mean = mean(arr_delay, na.rm = TRUE),\n",
    "        .keep = \"none\"    \n",
    "    ) %>%\n",
    "    show_query()"
   ]
  },
  {
   "cell_type": "markdown",
   "id": "e24fc8ce-129a-46be-8207-e26c5a0f59ca",
   "metadata": {},
   "source": [
    "`GROUP BY` wird in SQL ausschließlich für Zusammenfassungen benutzt. Wenn wir trotzdem aber gruppierte Ergebnisse ausgeben wollen, benutzen wir wieder `PARTITION BY` und `OVER`."
   ]
  },
  {
   "cell_type": "code",
   "execution_count": null,
   "id": "31172437-75a0-4da7-9f88-5d6bfd42b4b0",
   "metadata": {},
   "outputs": [],
   "source": [
    "flights_db %>%\n",
    "    group_by(dest) %>%\n",
    "    arrange(time_hour) %>%\n",
    "    mutate(\n",
    "        lead = lead(arr_delay),\n",
    "        lag = lag(arr_delay),\n",
    "        .keep = \"none\"\n",
    "    ) %>%\n",
    "    show_query()"
   ]
  },
  {
   "cell_type": "markdown",
   "id": "bc61ae87-17b7-43c1-8edf-60a8f6fe50a2",
   "metadata": {},
   "source": [
    "SQL-Tabellen haben von Haus aus keine intrinsische Sortierung! Daher ist es wichtig, `arrange()` zu benutzen, um die Tabelle zunächst sortieren! Wenn `arrange()` nicht benutzt wird, könnten die Reihen jedes Mal in einer anderen Reihenfolge ausgegeben werden! Außerdem sehen wir, dass `ORDER BY` innerhalb der *window function* `OVER` nochmal benutzt wird! Die `ORDER BY` clause der Hauptabfrage wird nicht automatisch an *window functions* übergeben!\n",
    "\n",
    "Bei der Auswahl von Fällen mithilfe von von `case_when()` – oder auch `if_else()` – wird `CASE WHEN` benutzt. Auch hier sehen wir wieder, wie `dplyr` von SQL namensgebend inspiriert wurde."
   ]
  },
  {
   "cell_type": "code",
   "execution_count": null,
   "id": "9ad5e5a8-6e67-4eb1-9454-f88a406657ab",
   "metadata": {},
   "outputs": [],
   "source": [
    "flights_db %>%\n",
    "    mutate(\n",
    "    description = \n",
    "        case_when(\n",
    "            arr_delay < -5 ~ \"early\", \n",
    "            arr_delay < 5 ~ \"on-time\",\n",
    "            arr_delay >= 5 ~ \"late\"\n",
    "        ),\n",
    "        .keep = \"none\"\n",
    "    ) %>%\n",
    "    show_query()"
   ]
  },
  {
   "cell_type": "markdown",
   "id": "f9d41fdd-9755-40ff-82c6-d22771bf6fc7",
   "metadata": {},
   "source": [
    "`dbplyr` übersetzt auch gebräuchliche R-Funktionen, mit denen man Strings oder Datetime-Objekte manipulieren kann. Mehr darüber kannst du in der [Dokumentation](https://dbplyr.tidyverse.org/articles/translation-function.html) lernen! Die Übersetzungen von `dbplyr` sind sicherlich nicht perfekt und ersetzen bei häufiger Anwendung auch keine direkten Auseinandersetzung mit SQL, für den Anfang und einfache Zwecke sind sie für euch aber sicherlich hilfreich!"
   ]
  },
  {
   "cell_type": "markdown",
   "id": "8865206a-94cc-4184-a5f0-ac768ff15720",
   "metadata": {},
   "source": [
    "**Fragen**\n",
    "\n",
    "5. Erzeugt eine neue Spalte in `flights_db`, die die Gesamtverspätung `total_delay` als Summe von `dep_delay` und `arr_delay` darstellt. Überlegt euch vorher, wie der dazugehörige SQL-Code aussehen wird, und vergleicht anschließend das Ergebnis damit."
   ]
  },
  {
   "cell_type": "code",
   "execution_count": null,
   "id": "b9d97f6d-31f5-4b12-b10c-fd62f42148f0",
   "metadata": {},
   "outputs": [],
   "source": []
  },
  {
   "cell_type": "markdown",
   "id": "e8659af3-dfa5-44bb-9530-1ed500e6c3f3",
   "metadata": {},
   "source": [
    "6. Schaut euch die Dokumentation von [`between()`](https://dplyr.tidyverse.org/reference/between.html) and und überlegt euch, wie ihr mithilfe von `filter()` und [`between()`](https://dplyr.tidyverse.org/reference/between.html) alle Flüge aus `flights_db` auswählen könnt, bei denen die `airtime` zwischen 60 und 120 Minuten und die `distance` weniger als 500 Meilen beträgt. Schaut euch anschließend an, wie das ganze in SQL-Code übersetzt wird."
   ]
  },
  {
   "cell_type": "code",
   "execution_count": null,
   "id": "ef88b237-fe41-4091-b232-f87fa539455d",
   "metadata": {},
   "outputs": [],
   "source": []
  },
  {
   "cell_type": "markdown",
   "id": "5e60e951-ea51-4b8a-9484-33c1b3432357",
   "metadata": {},
   "source": [
    "7. Was macht der folgende Code? Überlegt euch, wie das ganze in SQL aussehen wird und vergleicht anschließend.\n",
    "\n",
    "```\n",
    "flights_db %>%\n",
    "  group_by(origin) %>%\n",
    "  summarise(\n",
    "    flights_count = n(),\n",
    "    avg_dep_delay = mean(dep_delay, na.rm = TRUE),\n",
    "    max_distance = max(distance, na.rm = TRUE)\n",
    "  )\n",
    "```"
   ]
  },
  {
   "cell_type": "code",
   "execution_count": null,
   "id": "0b366f4e-eeea-4d59-ac5f-1b2962c7c8d3",
   "metadata": {},
   "outputs": [],
   "source": []
  },
  {
   "cell_type": "markdown",
   "id": "533a3191-a70e-4de6-84d5-77c60991fd99",
   "metadata": {
    "id": "533a3191-a70e-4de6-84d5-77c60991fd99"
   },
   "source": [
    "## Zusammenfassung\n",
    "\n",
    "In dieser Sitzung haben wir einen ersten Einblick in die Programmiersprache SQL erhalten. Da wir im Rahmen dieser Übung keine Zeit haben, uns ausführlich mit SQL zu beschäftigen, haben wir das Paket `dbplyr` benutzt, um `dplyr`-Code in SQL zu übersetzen. SQL ist als meistverbreiteste Datenbanksprache wichtig, und es ist immer gut einen kleinen Überblick über eine so zentrale Sprache zu haben. Wenn ihr noch mehr über SQL lernen wollt, sind außerdem diese weiterführenden Links zu empfehlen:\n",
    "\n",
    "* [SQL for Data Scientists](https://sqlfordatascientists.com/) von René M. P. Teate ist eine Einführung in SQL, die vor allem für Data Scientists geeignet ist. Sie enthält viele Beispiele für stark vernetzte Datensätze. Also so, wie sie auch in der Realität auftreten.\n",
    "* [Practical SQL](https://www.practicalsql.com/) von Anthony DeBarros erzählt die Perspektive eines Datenjournalisten und geht dabei detaillierter darauf ein, wie man eigene Daten in eine Datenbank bekommt und sein eigenes DBMS betreibt.\n",
    "* [SQL Island](https://sql-island.informatik.uni-kl.de/) ist ein Text-Adventure-Lernspiel für die Datenbanksprache SQL.\n",
    "\n",
    "Aufgrund des zeitlichen Umfangs hatten wir in dieser Sitzung keine Zeit, auf sogenannte APIs einzugehen. Das sind Schnittstellen im Internet, über welche ebenfalls häufig Daten abgerufen werden – also quasi das Verbindungsstück zwischen uns und einer internen SQL-Datenbank. Die meisten Webseiten, die mit großen Datenmengen arbeiten, haben (oder hatten) ihre eigenen APIs (z.B. Twitter, Spotify, Telegram, etc). APIs werden im kommenden Sommersemester in der Datenwelten 2 Übung aufgegriffen werden. Ein einfaches Beispiel einer API findet sich noch im weiterführenden (optionalen) Teil."
   ]
  },
  {
   "cell_type": "markdown",
   "id": "26692e2f-f420-484f-a660-e33dd6a622b4",
   "metadata": {
    "id": "26692e2f-f420-484f-a660-e33dd6a622b4"
   },
   "source": [
    "## Weiterführend"
   ]
  },
  {
   "cell_type": "markdown",
   "id": "338a00b7-fd47-45bb-b36e-e04d85147fd2",
   "metadata": {},
   "source": [
    "### `JOIN` und weitere SQL-verbs\n",
    "\n",
    "Wir haben bisher noch nicht die [joins](https://dplyr.tidyverse.org/reference/mutate-joins.html) von `dplyr` kennengelernt, es gibt aber in `dbplyr` und SQL ebenfalls \"joins\", die sehr praktisch sind. Allgemein gesagt ist ein \"join\" eine Funktion, mit der zwei Tabellen entlang einer oder mehrerer Variablen zusammengeführt werden können. Wir können beispielsweise die beiden Tabellen `flights_db` und `planes_db` zusammenführen. `flights_db` enthält Flugdaten, und `planes_db` zu den Flügen zugehörige Flugzeugmaschinendaten.\n",
    "\n",
    "> In `dplyr` gibt es verschiedene [joins](https://dplyr.tidyverse.org/reference/mutate-joins.html), wie ihr auch in der Dokumentation nachlesen könnt. Darauf müssen wir an dieser Stelle aber nicht genauer eingehen.\n",
    "\n",
    "Es folgt ein Beispiel, bei dem die Flugdaten mit den dazugehörigen Maschinendaten verknüpft werden:"
   ]
  },
  {
   "cell_type": "code",
   "execution_count": null,
   "id": "fe722288-99b0-4719-8ef8-2a5951b7efcb",
   "metadata": {},
   "outputs": [],
   "source": [
    "flights_db %>% \n",
    "    left_join(planes_db %>% rename(year_built = year), by = \"tailnum\") %>%\n",
    "    select(tailnum, manufacturer, model)"
   ]
  },
  {
   "cell_type": "markdown",
   "id": "00795d35-f8eb-40d4-9a07-d551ec00d2be",
   "metadata": {},
   "source": [
    "In SQL sieht das ganze dann so aus:"
   ]
  },
  {
   "cell_type": "code",
   "execution_count": null,
   "id": "d1db02a7-14b3-4fe2-8570-9daa806239ec",
   "metadata": {},
   "outputs": [],
   "source": [
    "flights_db %>% \n",
    "    left_join(planes_db %>% rename(year_built = year), by = \"tailnum\") %>%\n",
    "    show_query()"
   ]
  },
  {
   "cell_type": "markdown",
   "id": "f038bfb2-9e84-428f-8157-92afd32be11d",
   "metadata": {},
   "source": [
    "Neben `JOIN` kennt SQL auch noch `INNER JOIN`, `RIGHT JOIN` und `FULL JOIN`. Joins sind eine wichtige Funktion, wenn ihr mit Datenbanken arbeitet, da in Datenbanken die Tabellen oft einzelne Inhalte enthalten und erst miteinander verknüpft (joined) werden müssen. \n",
    "\n",
    "Ein praktisches Paket ist hierfür [`dm`](https://dm.cynkra.com/), mit welchem ihr direkt die Verbindungen innerhalb einer Datenbank anzeigen lassen könnt.\n",
    "\n",
    "`dbplyr` kennt viele weitere SQL-verbs, welche ihr in der [Referenz](https://dbplyr.tidyverse.org/reference/) nachlesen könnt."
   ]
  },
  {
   "cell_type": "markdown",
   "id": "a05499ec-1f6c-4fff-a142-eddea8db84d0",
   "metadata": {},
   "source": [
    "### APIs\n",
    "\n",
    "Rein der Vollständigkeit halber seien hier noch APIs erwähnt, sogenannte Application Programming Interfaces, welche Schnittstellen übers Internet zu Datenbanken darstellen. APIs sind eine gängige Technik in der Informatik, auf die wir hier gar nicht im Detail eingehen wollen. Sie ermöglichen es uns, übers Internet Datenbanken anzuzapfen, um z.B. automatisiert Daten abzurufen.\n",
    "\n",
    "Ein Mini-Beispiel für eine API ist [Open Notify taking NASA data](http://open-notify.org/), ein Open Source Projekt, welches eine API für NASA-Daten anbietet. In R können wir u.a. das Paket `jsonlite` benutzen, um über eine API Daten abzurufen:"
   ]
  },
  {
   "cell_type": "code",
   "execution_count": null,
   "id": "778c898f-5543-4fc2-ad1d-af045ed85d75",
   "metadata": {},
   "outputs": [],
   "source": [
    "pacman::p_load(jsonlite)"
   ]
  },
  {
   "cell_type": "markdown",
   "id": "c2816477-36dd-478d-9cb1-bfcd0504aa02",
   "metadata": {},
   "source": [
    "Über die Adresse http://api.open-notify.org/iss-now.json können wir z.B. die aktuelle Adresse der ISS abrufen."
   ]
  },
  {
   "cell_type": "code",
   "execution_count": null,
   "id": "6ae2c9fa-dd4e-461e-8f3a-4a8f88f12011",
   "metadata": {},
   "outputs": [],
   "source": [
    "jsonlite::fromJSON(\"http://api.open-notify.org/iss-now.json\") %>%\n",
    "    head()"
   ]
  },
  {
   "cell_type": "markdown",
   "id": "b9423055-3525-40d0-8b94-4971c2662644",
   "metadata": {},
   "source": [
    "Die von der API erhaltene Nachricht enthält die latitude und longitude der ISS, einen Zeitstempel sowie eine Benachrichtigung, ob die Abfrage von uns erfolgreich war.\n",
    "\n",
    "Ein anderes Beispiel ist http://api.open-notify.org/astros.json, über welche wir die momentan sich auf der ISS befindlichen Personen sowie deren Anzahl abrufen können:"
   ]
  },
  {
   "cell_type": "code",
   "execution_count": null,
   "id": "62b0ec84-1124-4c7e-a3cd-3c18ce478410",
   "metadata": {},
   "outputs": [],
   "source": [
    "jsonlite::fromJSON(\"http://api.open-notify.org/astros.json\") %>%\n",
    "    head()"
   ]
  }
 ],
 "metadata": {
  "colab": {
   "provenance": []
  },
  "kernelspec": {
   "display_name": "R",
   "language": "R",
   "name": "ir"
  },
  "language_info": {
   "codemirror_mode": "r",
   "file_extension": ".r",
   "mimetype": "text/x-r-source",
   "name": "R",
   "pygments_lexer": "r",
   "version": "4.3.2"
  },
  "toc-autonumbering": true,
  "toc-showmarkdowntxt": false,
  "widgets": {
   "application/vnd.jupyter.widget-state+json": {
    "state": {},
    "version_major": 2,
    "version_minor": 0
   }
  }
 },
 "nbformat": 4,
 "nbformat_minor": 5
}
