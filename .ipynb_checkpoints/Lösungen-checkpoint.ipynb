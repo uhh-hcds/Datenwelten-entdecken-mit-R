{
 "cells": [
  {
   "cell_type": "code",
   "execution_count": null,
   "id": "6213230b-1cd3-4d18-89ca-7bacaaf8d248",
   "metadata": {},
   "outputs": [],
   "source": [
    "# Jupyter Notebook options\n",
    "\n",
    "# Set the maximum number of rows to print from dplyr functions\n",
    "options(dplyr.print_max = 10)\n",
    "\n",
    "# Set the default plot width for Jupyter Notebook display\n",
    "options(repr.plot.width = 12, repr.plot.height = 8)"
   ]
  },
  {
   "cell_type": "markdown",
   "id": "f93876a0-c805-48e3-9a79-9f085cdb8fcc",
   "metadata": {},
   "source": [
    "# Lösungen\n",
    "\n",
    "In diesem Notebook finden sich alle Lösungen der bisher stattgefundenen Übungen. Für die Übersichtlichkeit werden lediglich Aufgabe und Lösung aufgeführt."
   ]
  },
  {
   "cell_type": "markdown",
   "id": "6c9a7719-5ad8-4b97-a530-84b314764645",
   "metadata": {},
   "source": [
    "## Einführung"
   ]
  },
  {
   "cell_type": "code",
   "execution_count": null,
   "id": "5426da9b-40f4-4172-ba48-d84c55c99386",
   "metadata": {},
   "outputs": [],
   "source": [
    "pacman::p_load(tidyverse)"
   ]
  },
  {
   "cell_type": "markdown",
   "id": "731cc3d0-c872-4053-a383-d8ba7efd2dc7",
   "metadata": {},
   "source": [
    "1. Dieser Code wirft eine Fehlermeldung aus, da wir den Befehl print() aus Versehen groß geschrieben haben. Probiere doch mal, den Code zu korrigieren, und führe die Zelle erneut aus!"
   ]
  },
  {
   "cell_type": "code",
   "execution_count": null,
   "id": "4244238f-d618-433e-acc6-d15dfa77edf6",
   "metadata": {},
   "outputs": [],
   "source": [
    "x = 3\n",
    "print(x) # die Groß- und Kleinschreibung ist wichtig!"
   ]
  },
  {
   "cell_type": "markdown",
   "id": "5699651b-bbe6-4fff-b13d-fc60e09f8e21",
   "metadata": {},
   "source": [
    "2. Versucht doch mal, aus einer eigenen Zahlenkombination den Durchschnitt mithilfe von `mean()` zu berechnen! Tipp: Ihr müsst der Funktion dafür eine Liste übergeben – also z.B. `c(1, 2, 3, 4)`."
   ]
  },
  {
   "cell_type": "code",
   "execution_count": null,
   "id": "e2293a9f-14f3-4243-907e-d8acca10acd3",
   "metadata": {},
   "outputs": [],
   "source": [
    "y = c(1, 2, 3, 4) # man kann die Liste erst zuweisen\n",
    "mean(y) # und dann den Durchschnitt ausgeben\n",
    "mean(c(1, 2, 3, 4)) # oder die Liste direkt übergeben"
   ]
  },
  {
   "cell_type": "markdown",
   "id": "cee623eb-3f32-4221-98f7-b8ef38f0f144",
   "metadata": {},
   "source": [
    "3. Überlegt euch, was die folgende Funktion macht, und kommentiert die wichtigsten Zeilen direkt im Code. Führt die Zelle anschließend aus, um zu schauen, was das Ergebnis ist. Stimmt das Ergebnis mit euren Überlegungen überein?"
   ]
  },
  {
   "cell_type": "code",
   "execution_count": null,
   "id": "a0d5bdcc-b64c-4294-872d-21758583ef03",
   "metadata": {},
   "outputs": [],
   "source": [
    "divison <- function(x, y){ # wir übergeben der Funktion \"divison()\" die Parameter x und y\n",
    "    ergebnis = x / y # Dann teilen wir x durch y und speichern das Ergebnis in der Variable \"ergebnis\"\n",
    "    return(paste0(\"Das Ergebnis ist \", ergebnis)) # Anschließend geben wir mithilfe von paste0() die Kombination aus unserem Satz und ergebnis zurück\n",
    "}\n",
    "\n",
    "divison(6, 3) # und schlussendlich rufen wir die Funktion mit den Zahlen 6 und 3 auf"
   ]
  },
  {
   "cell_type": "markdown",
   "id": "5fe4285f-6a86-4cf2-9db1-c2ec6843ba25",
   "metadata": {},
   "source": [
    "4. Wie müsst ihr den folgenden Code verändern, damit er keine Fehlermeldung mehr ausgibt? Tipp: `sqrt(x)` gibt die Wurzel von x zurück."
   ]
  },
  {
   "cell_type": "code",
   "execution_count": null,
   "id": "68355c94-8610-49ff-af7a-56c8a49467aa",
   "metadata": {},
   "outputs": [],
   "source": [
    "wurzel <- function(x){\n",
    "    print(\n",
    "        paste(\"Die Wurzel von \", x, \" ist gleich \" , sqrt(x)) # die Klammersetzung hat hier nicht gestimmt\n",
    "    )\n",
    "}\n",
    "\n",
    "x = 9\n",
    "wurzel(x) # hier fehlte das Argument"
   ]
  },
  {
   "cell_type": "markdown",
   "id": "167a0895-76a8-4394-b197-c538caca0f60",
   "metadata": {},
   "source": [
    "5. Schreibe eine Funktion, der man die Werte `x` und `y` übergeben kann und die das Produkt dieser Parameter ausgibt!"
   ]
  },
  {
   "cell_type": "code",
   "execution_count": null,
   "id": "8d68a4cf-4217-4ea3-be08-48f069b7987c",
   "metadata": {},
   "outputs": [],
   "source": [
    "multiplication <- function(x, y){ # wir übergeben die Werte x und y\n",
    "    return(x * y) # und geben das Produkt der beiden Werte zurück\n",
    "    }\n",
    "\n",
    "multiplication(3, 4) # hier wird die Funktion aufgerufen"
   ]
  },
  {
   "cell_type": "markdown",
   "id": "b0ee6f31-b7d9-48a3-b406-526bf32c318a",
   "metadata": {},
   "source": [
    "6. Verändert die Werte von `x` und `y`, sodass beide Werte Nachkommastellen enthalten. In R ist der Dezimaltrenner der Punkt `.`. Wie kann der Code erweitert werden, sodass das Ergebnis auf 2 Nachkommastellen gerundet wird?"
   ]
  },
  {
   "cell_type": "code",
   "execution_count": null,
   "id": "f5016c4e-fc69-429d-b9cf-f9c6c07be3aa",
   "metadata": {},
   "outputs": [],
   "source": [
    "multiplication <- function(x, y){ # wir übergeben die Werte x und y\n",
    "    return(round(x * y, 2)) # und geben das Produkt der beiden Werte zurück und runden auf 2 Nachkommastellen\n",
    "    }\n",
    "\n",
    "multiplication(3.33, 4.44) # hier wird die Funktion aufgerufen"
   ]
  },
  {
   "cell_type": "markdown",
   "id": "5b0f37b4-d9ff-45aa-a5dd-54e31e1b1bee",
   "metadata": {},
   "source": [
    "7. Schreibe eine Funktion, die das heutige Datum und die momentane Uhrzeit ausgibt. Tipp: Benutze [`Sys.Date()`](https://www.rdocumentation.org/packages/base/versions/3.6.2/topics/Sys.time) und suche im Internet nach eine ähnlichen Funktion, die die Uhrzeit ausgibt! Ihr könnt auch `paste0()` benutzen, sodass die Uhrzeit mit einem netten Gruß ausgegeben wird."
   ]
  },
  {
   "cell_type": "code",
   "execution_count": null,
   "id": "757730d8-5fba-457c-80ca-1e962f777a7f",
   "metadata": {},
   "outputs": [],
   "source": [
    "wievieluhr <- function(){ # man kann Funktionen auch ohne Parameter definieren!\n",
    "    print(paste0(\"Momentanes Datum und Uhrzeit: \", Sys.time())) # Wir benutzen direkt die Funktion Sys.time()\n",
    "    }\n",
    "\n",
    "wievieluhr()"
   ]
  },
  {
   "cell_type": "markdown",
   "id": "5d66e9f4-1743-40d5-9fd3-af40d1981c0d",
   "metadata": {},
   "source": [
    "## Grafiken"
   ]
  },
  {
   "cell_type": "code",
   "execution_count": null,
   "id": "0a39ce1f-f58e-4c01-8564-675065e4427e",
   "metadata": {},
   "outputs": [],
   "source": [
    "pacman::p_load(tidyverse, palmerpenguins)"
   ]
  },
  {
   "cell_type": "markdown",
   "id": "d3a11e20-6150-45ac-8f97-139af56a4be8",
   "metadata": {},
   "source": [
    "1. Welche anderen Variablen tauchen noch im Datensatz auf? (also neben `species` oder `bill_length_mm`?\n",
    "\n",
    "> `island`, `bill_depth_mm`, `flipper_length_mm`, `body_mass_g`, `sex`, `year`\n",
    "\n",
    "2. Welche von ihnen könnten besonders interessant sein?\n",
    "\n",
    "> Das kommt sehr auf die Forschungsfrage an.\n",
    "\n",
    "3. Welche Einheiten haben die einzelnen Variablen?\n",
    "\n",
    "> Die Einheiten sind hinten in der Variablenbezeichnung aufgeführt (das Körpergewicht ist z.B. in g angegeben).\n",
    "\n",
    "4. Welche Unterschiede erkennt ihr zwischen den einzelnen Variablen? Was wäre z. B. ein Unterschied zwischen der Variable \n",
    "\n",
    "> `species` und `body_mass_g`? (das statistische Stichwort dazu ist das **Datenniveau**)\n",
    "`body_mass_g` ist eine kontinuierliche Variable (sie kann jede beliebige Zahl über 0 annehmen. `species` hingegen ist eine kategorische bzw. diskrete Variable, da nur 3 verschiedene Spezies im Datensatz enthalten sind.\n",
    "\n",
    "5. Was könnte man mit dem Pinguin-Datensatz herausfinden? Denkt euch zwei Fragestellungenen aus, die sich theoretisch untersuchen lassen würden. Keine Sorge, ihr müsst diese anschließend nicht weiter nachverfolgen.\n",
    "\n",
    "> a) Wie ist der Zusammenhang zwischen dem biologischen Geschlecht und der Größe und dem Gewicht der Pinguine? Gibt es hierbei Unterschiede zwischen den verschiedenen Spezies? b) Welche Spezies leben auf welcher Insel und inwiefern unterscheiden sich die Pinguine pro Insel?"
   ]
  },
  {
   "cell_type": "markdown",
   "id": "48dc4b1e-88bd-4e26-a844-b461277b2ef5",
   "metadata": {},
   "source": [
    "6. Was beschreibt die Variable `bill_depth_mm`? Tipp: schaue in der Dokumentation von `palmerpenguins` mithilfe von `?penguins` nach.\n",
    "\n",
    "> `bill_depth_mm` = a number denoting bill depth (millimeters)"
   ]
  },
  {
   "cell_type": "markdown",
   "id": "e52ca14c-37bc-4ec3-8794-d27fae09a30d",
   "metadata": {},
   "source": [
    "7. Müssen wir dafür [`aes()`](https://ggplot2.tidyverse.org/reference/aes.html) oder das **geom** verändern?\n",
    "\n",
    "> Dafür muss das *aesthetic mapping* [`aes()`](https://ggplot2.tidyverse.org/reference/aes.html) angepasst werden."
   ]
  },
  {
   "cell_type": "markdown",
   "id": "8c935b07-36fd-402f-8327-acd1e04d7c1b",
   "metadata": {},
   "source": [
    "8. Welchen Zusammenhang erwartet ihr intutitiv zwischen den beiden Variablen?\n",
    "\n",
    "> Eine größere Schnabellänge `bill_length_mm` sollte vermutlich auch eine größere Schnabeltiefe `bill_depth_mm` bedeuten.\n",
    "\n",
    "9. Wie könnten diese beiden Variablen von `species` und `sex` abhängen?\n",
    "\n",
    "> Unterschiedliche `species` haben vermutlich unterschiedliche Größen, was sich dann wiederum auch in der Schnabellänge und -tiefe wiederspiegeln würde. Ähnlich sollte es beim biologischen Geschlecht `sex` sein. Um genauere Informationen darüber zu erfahren, müssen wir in die Daten gucken.\n",
    "\n",
    "10. Erstellt einen Plot, bei dem `bill_depth_mm` auf der x-Achse liegt und `bill_length_mm` auf der y-Achse:"
   ]
  },
  {
   "cell_type": "code",
   "execution_count": null,
   "id": "345740ef-056c-443d-9076-7d129e8fcb9d",
   "metadata": {},
   "outputs": [],
   "source": [
    "ggplot(penguins, aes(x = bill_depth_mm, y = bill_length_mm)) +\n",
    "    geom_point()"
   ]
  },
  {
   "cell_type": "markdown",
   "id": "cf885135-0da8-4f61-a314-ccf143f4a4d3",
   "metadata": {},
   "source": [
    "11. Entspricht das Ergebnis euren intuitiven Vermutungen?\n",
    "\n",
    "> In der Grafik ist es bisher sehr schwierig, einen Zusammenhang zu erkennen, weil wir noch nicht die einzelnen Spezies gekennzeichnet haben.\n",
    "\n",
    "12. Welchen Zusammenhang erkennt ihr zwischen `bill_depth_mm` und `bill_length_mm` innerhalb der einzelnen Cluster (Spezies)?\n",
    "\n",
    "> Hierfür können wir die gleiche Grafik nochmal ausgeben, aber diesmal die Spezies einfärben. Dann sehen wir, ein grober Zusammenhang zwischen Schnabeltiefe und -länge besteht (innerhalb der einzelnen Cluster bedeuten größere Schnabeltiefen tendenziell auch größere Schnabellängen)."
   ]
  },
  {
   "cell_type": "code",
   "execution_count": null,
   "id": "ef6a8194-3ec5-4899-84e6-68db6f8301d7",
   "metadata": {},
   "outputs": [],
   "source": [
    "ggplot(penguins, aes(x = bill_depth_mm, y = bill_length_mm, color = species)) +\n",
    "    geom_point()"
   ]
  },
  {
   "cell_type": "markdown",
   "id": "dd25905d-a48b-40c0-a376-44a5ff9a2f9e",
   "metadata": {},
   "source": [
    "13. Was passiert, wenn Du ein Streudiagramm von `species` vs. `bill_depth_mm` erzeugst? Was könnte ein besseres **geom** sein, um dieses Verhältnis darzustellen?\n",
    "\n",
    "> Ein besseres **geom** wäre z.B. ein Balkendiagramm, welches später in der Übung erwähnt wird."
   ]
  },
  {
   "cell_type": "code",
   "execution_count": null,
   "id": "1bee053d-ec48-49d9-ac28-2205e01aa0ca",
   "metadata": {},
   "outputs": [],
   "source": [
    "ggplot(data = penguins, aes(x = species, y = bill_depth_mm)) +\n",
    "    geom_point()"
   ]
  },
  {
   "cell_type": "markdown",
   "id": "c56cd0c9-3e26-42b9-8185-5598e86af753",
   "metadata": {},
   "source": [
    "14. Warum würde der folgende Code eine Fehlermeldung ausgeben? Und wie könnte man diese beheben?\n",
    "```\n",
    "ggplot(data = penguins) +\n",
    "    geom_point()\n",
    "```"
   ]
  },
  {
   "cell_type": "code",
   "execution_count": null,
   "id": "1f6f5cd9-b89f-4629-86ca-b7a94ef2cb0f",
   "metadata": {},
   "outputs": [],
   "source": [
    "ggplot(data = penguins, aes(x = body_mass_g, y = bill_depth_mm)) + # es fehlt das aesthetic mapping aes()\n",
    "    geom_point()"
   ]
  },
  {
   "cell_type": "markdown",
   "id": "244c5bd3-e6df-458b-9ec8-c31f026e28f0",
   "metadata": {},
   "source": [
    "15. Wie kann man die Schriftgröße oder die Schriftart des Plots verändern? Recherchiert mithilfe von Suchmaschinen oder ChatGPT, wie das möglich sein könnte."
   ]
  },
  {
   "cell_type": "code",
   "execution_count": null,
   "id": "852d6b26-3c04-4af9-936d-3cfd1f27336e",
   "metadata": {},
   "outputs": [],
   "source": [
    "ggplot(data = penguins, aes(x = body_mass_g, y = bill_depth_mm)) +\n",
    "    geom_point() +\n",
    "    theme_minimal(base_size = 20) # mithilfe des Arguments base_size"
   ]
  },
  {
   "cell_type": "markdown",
   "id": "37e644df-c8f1-4eca-9e17-14c94f578142",
   "metadata": {},
   "source": [
    "16. Wir nehmen an, dass sich der BMI der Pinguine durch die einfache Formel `body_mass_g / flipper_length_mm ** 2` berechnen lässt. Der Slash `/` funktioniert hier als Divisor und `**` als Potenz:\n",
    "  \n",
    "$ \\frac{body\\_mass\\_g}{flipper\\_length\\_mm^2} $.\n",
    "\n",
    "Verändert den Code, sodass die Farbe durch die neue Variable `BMI` gegeben ist. Tipp: Ihr könnt eine neue Spalte mithilfe des `$`-Operators hinzufügen: `data_frame$new_column <- Berechnung`"
   ]
  },
  {
   "cell_type": "code",
   "execution_count": null,
   "id": "091633c1-1fa6-4e42-b866-b562b812b267",
   "metadata": {},
   "outputs": [],
   "source": [
    "penguins$BMI = penguins$body_mass_g / penguins$flipper_length_mm ** 2\n",
    "ggplot(penguins, aes(x = body_mass_g, y = flipper_length_mm, color = BMI)) +\n",
    "    geom_point()"
   ]
  },
  {
   "cell_type": "markdown",
   "id": "5bae2892-19fe-4fee-8eb5-d98b7bed5099",
   "metadata": {},
   "source": [
    "17. Kannst du die Datei im File Browser finden und öffnen? Wie würde man sie auf deiner lokalen Festplatte (aka deinem Computer) speichern?\n",
    "\n",
    "> Innerhalb der Funktion `ggsave()` kann man das Argument `path = \"your/directory/\"` angeben. Unter diesem Pfad auf dem Jupyter-Server wird die Datei gespeichert. Anschließend kannst du sie mit Rechtsklick -> Download herunterladen."
   ]
  },
  {
   "cell_type": "markdown",
   "id": "c2bfaf7f-4c4c-41f5-ad50-01774e44a144",
   "metadata": {},
   "source": [
    "18. Auch wenn es trivial erscheinen mag, was sagt dieser Plot über den Datensatz aus?"
   ]
  },
  {
   "cell_type": "code",
   "execution_count": null,
   "id": "f74ff79f-49bc-492c-b7fb-76f6454f6e2e",
   "metadata": {},
   "outputs": [],
   "source": [
    "ggplot(penguins, aes(x = species)) +\n",
    "    geom_bar()"
   ]
  },
  {
   "cell_type": "markdown",
   "id": "272381d1-7166-4d01-9d56-8bad9944b6e0",
   "metadata": {},
   "source": [
    "> Durch dieses Balkendiagramm erhalten wir direkt einen visuell aussagekräftigen Überblick, wieviele Pinguine von welcher Spezies vorhanden sind.\n",
    "\n",
    "19. Füge mithilfe von [`labs()`](https://ggplot2.tidyverse.org/reference/labs.html) aussagekräftige Beschriftungen hinzu.\n",
    "20. Füge eine Theme hinzu, z.B. mit [`theme_minimal()`](https://ggplot2.tidyverse.org/reference/ggtheme.html). Ihr könnt auch andere [Themes](https://ggplot2.tidyverse.org/reference/ggtheme.html) ausprobieren!"
   ]
  },
  {
   "cell_type": "code",
   "execution_count": null,
   "id": "1556d164-8f31-40eb-86b6-221edd8bcf35",
   "metadata": {},
   "outputs": [],
   "source": [
    "ggplot(penguins, aes(x = species, fill = island)) +\n",
    "    geom_bar()  +\n",
    "    labs(\n",
    "        x = \"Spezies\", # x-Achsenbeschriftung\n",
    "        y = \"Anzahl\", # y-Achsenbeschriftung\n",
    "        color = \"Insel\", # Legendenbeschriftung für `color`\n",
    "        title = \"Pinguine in der Antarktis\", # Titel\n",
    "        subtitle = \"Aufgezeichnet von Dr. Kristen Gorman und der Palmer Station, Antarctica LTER\", # Untertitel\n",
    "        caption = \"https://allisonhorst.github.io/palmerpenguins/\" # Bildunterschrift\n",
    "        ) +\n",
    "    theme_minimal()"
   ]
  },
  {
   "cell_type": "markdown",
   "id": "62215544-96f2-4d5d-9b0c-d0f8e859cd45",
   "metadata": {},
   "source": [
    "## Datenaufbereitung\n",
    "\n"
   ]
  },
  {
   "cell_type": "code",
   "execution_count": null,
   "id": "de5fdecf-ceeb-4a43-b43e-443a071551ec",
   "metadata": {},
   "outputs": [],
   "source": [
    "pacman::p_load(tidyverse, nycflights13)"
   ]
  },
  {
   "cell_type": "markdown",
   "id": "9f7f856b-85d3-413a-8863-11f6a939d4b8",
   "metadata": {},
   "source": [
    "1. Es ist immer gut, zu prüfen, ob eine Datentransformation funktioniert hat. Woran kannst du erkennen, dass der Filter funktioniert hat?"
   ]
  },
  {
   "cell_type": "code",
   "execution_count": null,
   "id": "bc72f7b5-739d-4fa7-b69d-a7e9811260e6",
   "metadata": {},
   "outputs": [],
   "source": [
    "flights %>%\n",
    "    filter(dest == \"IAH\") %>%\n",
    "    glimpse()"
   ]
  },
  {
   "cell_type": "markdown",
   "id": "20386b5e-63d1-4314-b198-b28363972a09",
   "metadata": {},
   "source": [
    "> Es werden nur noch 7,198 Rows ausgegeben – d.h., der Datensatz wurde reduziert (gefiltert)."
   ]
  },
  {
   "cell_type": "markdown",
   "id": "c4548f05-621a-418a-81a3-a37e7858272a",
   "metadata": {},
   "source": [
    "2. Wie könnte man den Befehl oben ohne die Pipe schreiben?"
   ]
  },
  {
   "cell_type": "code",
   "execution_count": null,
   "id": "96b1bb88-8bbd-492a-955d-dc9e430f608d",
   "metadata": {},
   "outputs": [],
   "source": [
    "glimpse(filter(flights, dest == \"IAH\"))"
   ]
  },
  {
   "cell_type": "markdown",
   "id": "d485a5f7-6591-4abd-bc6e-3cdc507b2783",
   "metadata": {},
   "source": [
    "3. Wie viele Flüge sind im `nycflights13`-Datensatz aufgeführt? (Tipp: Benutze den Befehl [`nrow()`](https://stat.ethz.ch/R-manual/R-devel/library/base/html/nrow.html)"
   ]
  },
  {
   "cell_type": "code",
   "execution_count": null,
   "id": "e21cf1c4-3c6b-4504-98ed-035a3e632b7f",
   "metadata": {},
   "outputs": [],
   "source": [
    "# Anzahl der Flüge im Datensatz\n",
    "flights %>%\n",
    "    nrow()"
   ]
  },
  {
   "cell_type": "markdown",
   "id": "4e030795-9c69-4897-8b25-2f02df1505d3",
   "metadata": {},
   "source": [
    "4. Wie viele Flüge haben bei Abflug eine Verspätung von mehr als 120 Minuten?"
   ]
  },
  {
   "cell_type": "code",
   "execution_count": null,
   "id": "fbd2aac3-7bb9-46fa-90c7-1c9d9e07293f",
   "metadata": {},
   "outputs": [],
   "source": [
    "# Anzahl der Flüge mit Verspätung mehr als 120 Min\n",
    "flights %>%\n",
    "    filter(dep_delay > 120) %>%\n",
    "    nrow()"
   ]
  },
  {
   "cell_type": "markdown",
   "id": "b5da1728-4ccd-4e83-8e00-9f16e42af99f",
   "metadata": {},
   "source": [
    "5. Sortiert `flights`, um die Flüge mit den längsten Abflugsverspätungen (departure delay) zu finden."
   ]
  },
  {
   "cell_type": "code",
   "execution_count": null,
   "id": "1b3d41c4-009f-4298-a387-e99893a11304",
   "metadata": {},
   "outputs": [],
   "source": [
    "flights %>%\n",
    "    arrange(desc(dep_delay)) %>%\n",
    "    head()"
   ]
  },
  {
   "cell_type": "markdown",
   "id": "f55f0ed2-b8d0-41e5-9b76-c007c8ded7bf",
   "metadata": {},
   "source": [
    "6. Gab es an jedem Tag von 2013 einen Flug?"
   ]
  },
  {
   "cell_type": "code",
   "execution_count": null,
   "id": "77298024-8b00-4187-9943-06af48882b2a",
   "metadata": {},
   "outputs": [],
   "source": [
    "flights %>%\n",
    "    distinct(year, month, day) %>%\n",
    "    nrow()"
   ]
  },
  {
   "cell_type": "markdown",
   "id": "79cb367b-7e80-41aa-8626-1ae0bd45b01b",
   "metadata": {},
   "source": [
    "> Hier fragen wir ab ob es für jede Kombination von `year`, `month` und `day` ein Ereignis gibt - die Anzahl dieser Ereignisse ist 365, also ja, es gab an jedem Tag von 2013 einen Flug!"
   ]
  },
  {
   "cell_type": "markdown",
   "id": "e17b39cb-f629-4e73-89e1-7411367d94b0",
   "metadata": {},
   "source": [
    "7. Welche Flüge sind am weitesten geflogen? Welche am kürzesten?"
   ]
  },
  {
   "cell_type": "code",
   "execution_count": null,
   "id": "af5d9f92-b6cd-4ed9-8159-609671fbc9d7",
   "metadata": {},
   "outputs": [],
   "source": [
    "# am weitesten geflogen\n",
    "flights %>%\n",
    "    arrange(desc(distance)) %>%\n",
    "    head()"
   ]
  },
  {
   "cell_type": "code",
   "execution_count": null,
   "id": "da0dde5e-a4fb-40f6-92c8-b4428ece834a",
   "metadata": {},
   "outputs": [],
   "source": [
    "# am kürzesten geflogen\n",
    "flights %>%\n",
    "    arrange(distance) %>%\n",
    "    head()"
   ]
  },
  {
   "cell_type": "markdown",
   "id": "df2308b0-1554-4aae-8e86-f251f3a6fcb2",
   "metadata": {},
   "source": [
    "8. Ist die Reihenfolge innerhalb einer Pipe von [`filter()`](https://dplyr.tidyverse.org/reference/filter.html) und [`arrange()`](https://dplyr.tidyverse.org/reference/arrange.html) wichtig? Warum/Warum nicht? Denkt dafür über die Ergebnisse nach und wieviel Arbeit die Funktionen jeweils ausführen müssen."
   ]
  },
  {
   "cell_type": "markdown",
   "id": "6025a3a1-7e2f-44c1-ac94-f058474511b8",
   "metadata": {},
   "source": [
    "> Wenn erst `filter()` und dann `arrange()` verwendet wird, muss `arrange()` wesentlich weniger Fälle sortieren. Das bedeutet weniger Rechenaufwand und eine schnellere Berechnung."
   ]
  },
  {
   "cell_type": "markdown",
   "id": "7ba59bf1-a804-4c98-83f5-8d2faf2a569d",
   "metadata": {},
   "source": [
    "9. Wie viele dieser Flüge sind am 01. Januar geflogen?"
   ]
  },
  {
   "cell_type": "code",
   "execution_count": null,
   "id": "eed6dee2-f579-4abf-9cac-bce0c0fef0c1",
   "metadata": {},
   "outputs": [],
   "source": [
    "# Anzahl der Flüge am 01. Januar mit einer Verspätung von mehr als 120 Minuten\n",
    "flights %>%\n",
    "    filter(dep_delay > 120) %>%\n",
    "    filter(month == 1 & day == 1) %>%\n",
    "    nrow()"
   ]
  },
  {
   "cell_type": "markdown",
   "id": "cccef144-d734-474a-b6a1-1cbcb8d9a37b",
   "metadata": {},
   "source": [
    "10. Wie viele Flüge fanden im Januar und Februar statt?"
   ]
  },
  {
   "cell_type": "code",
   "execution_count": null,
   "id": "b70a9613-32f7-4445-bc93-f8f6419e1744",
   "metadata": {},
   "outputs": [],
   "source": [
    "# Anzahl der Flüge im Januar und Februar\n",
    "flights %>%\n",
    "    filter(month == 1 | month == 1) %>%\n",
    "    nrow()"
   ]
  },
  {
   "cell_type": "markdown",
   "id": "a4bf70da-b3f8-4110-8213-2536ea30af90",
   "metadata": {},
   "source": [
    "11. Gebt alle Flüge aus, welche die folgenden Bedingungen erfüllen (mit der pipe [`%>%`](https://www.rdocumentation.org/packages/magrittr/versions/2.0.3), für jede Zeile ein Code Snippet)\n",
    "\n",
    "    - Ankunftsverspätung von mehr als zwei Stunden\n",
    "    - Zielflughafen ist in Houston (`IAH` or `HOU`)\n",
    "    - betrieben von United, American, oder Delta\n",
    "    - abgeflogen in den Monaten Juli, August, September\n",
    "    - mit mehr als zwei Stunden Verspätung angekommen, aber ohne Verspätung losgeflogen\n",
    "    - mindestens eine Stunde zu spät angekommen, aber über 30 Minuten beim Flug wieder gutgemacht"
   ]
  },
  {
   "cell_type": "code",
   "execution_count": null,
   "id": "d1a3a897-fdc6-45a7-b837-b0aa758f1fd2",
   "metadata": {},
   "outputs": [],
   "source": [
    "# Ankunftsverspätung von mehr als zwei Stunden\n",
    "flights %>%\n",
    "    filter(arr_delay >= 120) %>%\n",
    "    nrow()"
   ]
  },
  {
   "cell_type": "code",
   "execution_count": null,
   "id": "660bc63e-e1d6-479b-aa9a-6fd0ccc0dab4",
   "metadata": {},
   "outputs": [],
   "source": [
    "# betrieben von United, American, oder Delta\n",
    "flights %>%\n",
    "    filter(carrier %in% c(\"UA\", \"AA\", \"DL\")) %>%\n",
    "    nrow()"
   ]
  },
  {
   "cell_type": "code",
   "execution_count": null,
   "id": "d73dbb43-a27c-4b7e-9287-876e638f4e56",
   "metadata": {},
   "outputs": [],
   "source": [
    "# abgeflogen in den Monaten Juli, August, September\n",
    "flights %>%\n",
    "    filter(month %in% c(7, 8, 9)) %>%\n",
    "    nrow()"
   ]
  },
  {
   "cell_type": "code",
   "execution_count": null,
   "id": "e566c43f-74b1-48de-9292-966685d46f24",
   "metadata": {},
   "outputs": [],
   "source": [
    "# Zielflughafen ist in Houston (`IAH` or `HOU`)\n",
    "flights %>%\n",
    "    filter(dest %in% c(\"IAH\", \"HOU\")) %>%\n",
    "    nrow()"
   ]
  },
  {
   "cell_type": "code",
   "execution_count": null,
   "id": "da4e58b2-c455-4faa-aaa8-4c71764d2d66",
   "metadata": {},
   "outputs": [],
   "source": [
    "# mit mehr als zwei Stunden Verspätung angekommen, aber ohne Verspätung losgeflogen\n",
    "flights %>%\n",
    "    filter(dep_delay > 120 & arr_delay <= 0) %>%\n",
    "    nrow()"
   ]
  },
  {
   "cell_type": "code",
   "execution_count": null,
   "id": "caa5cc6a-1f5e-4138-9d1a-349bbd03967b",
   "metadata": {},
   "outputs": [],
   "source": [
    "# mindestens eine Stunde zu spät angekommen, aber über 30 Minuten beim Flug wieder gutgemacht\n",
    "flights %>%\n",
    "    filter(dep_delay > 60) %>% \n",
    "    filter(dep_delay - arr_delay <= -30) %>% # 30 Minuten wieder gutgemacht\n",
    "    nrow()"
   ]
  },
  {
   "cell_type": "markdown",
   "id": "b38603a1-4598-41b1-b2bb-d095f65961e1",
   "metadata": {},
   "source": [
    "12. Sortiert `flights`, um die schnellsten Flüge zu finden (Tipp: hier kann ein bisschen Mathematik helfen)."
   ]
  },
  {
   "cell_type": "code",
   "execution_count": null,
   "id": "f43cee4d-c08b-4712-99ef-91efebf8a857",
   "metadata": {},
   "outputs": [],
   "source": [
    "flights %>%\n",
    "    arrange(distance / air_time) %>%\n",
    "    head()"
   ]
  },
  {
   "cell_type": "markdown",
   "id": "6192fa4f-9753-4f8a-9d50-a2174f082286",
   "metadata": {},
   "source": [
    "13. Vergleiche die Variablen `dep_time`, `sched_dep_time`, und `dep_delay`. Was sind eure Annahmen, wie diese Variablen miteinander verknüpft sind?"
   ]
  },
  {
   "cell_type": "code",
   "execution_count": null,
   "id": "2e4343ff-32ad-49cc-8ec1-1d5e62a81eea",
   "metadata": {},
   "outputs": [],
   "source": [
    "flights %>%\n",
    "    select(dep_time, sched_dep_time, dep_delay) %>%\n",
    "    head()"
   ]
  },
  {
   "cell_type": "markdown",
   "id": "f815c1b0-0c01-4964-84dc-895d025937ed",
   "metadata": {},
   "source": [
    "> Die drei Variablen sind mathematisch folgendermaßen miteinander verknüpft: `dep_delay` = `dep_time` - `sched_dep_time`\n",
    ">\n",
    "> Die Verspätung ergibt sich einfach aus der Differenz von der geplanten vs. der tatsächlich Abflugszeit."
   ]
  },
  {
   "cell_type": "markdown",
   "id": "cffa77a6-14c0-4e1f-877d-ef8edd092b40",
   "metadata": {},
   "source": [
    "14. Überlegt, welche Wege euch einfallen, um `dep_time`, `dep_delay`, `arr_time`, und `arr_delay` aus `flights` auszuwählen."
   ]
  },
  {
   "cell_type": "code",
   "execution_count": null,
   "id": "86610dca-4d89-41d7-9f69-09351e31af52",
   "metadata": {},
   "outputs": [],
   "source": [
    "flights %>% select(dep_time, dep_delay, arr_time, arr_delay) %>% head()\n",
    "\n",
    "flights %>% select(starts_with(\"dep\") | starts_with(\"arr\")) %>% head()\n",
    "\n",
    "flights %>% select(contains(c(\"dep\", \"arr\")) & contains(c(\"time\", \"delay\")) &! contains(\"sched\")) %>% head()\n",
    "\n",
    "# und viele weitere"
   ]
  },
  {
   "cell_type": "markdown",
   "id": "8bc0fc66-1ff9-45a0-ab33-6eded07242d7",
   "metadata": {},
   "source": [
    "15. Was passiert, wenn man den Namen der gleichen Variablen mehrmals in [`select()`](https://dplyr.tidyverse.org/reference/select.html) angibt?"
   ]
  },
  {
   "cell_type": "code",
   "execution_count": null,
   "id": "2c458143-e46f-4470-9766-1c118b9c689c",
   "metadata": {},
   "outputs": [],
   "source": [
    "flights %>%\n",
    "    select(air_time, air_time) %>%\n",
    "    head()"
   ]
  },
  {
   "cell_type": "markdown",
   "id": "192d070f-b305-4312-bf13-5836c2317259",
   "metadata": {},
   "source": [
    "16. Was passiert, wenn ihr den folgenden Code ausführt? Überrascht euch das Ergebnis? Wie wird mit Groß- und Kleinschreibung umgegangen? Für mehr, schaut gerne in die Dokumentation von [`select()`](https://dplyr.tidyverse.org/reference/select.html).\n",
    "\n",
    "```\n",
    "flights %>% select(contains(\"TIME\"))\n",
    "```"
   ]
  },
  {
   "cell_type": "code",
   "execution_count": null,
   "id": "372a76d9-71f4-4f6f-9bbf-0de29a666c8e",
   "metadata": {},
   "outputs": [],
   "source": [
    "flights %>% \n",
    "    select(contains(\"TIME\")) %>% \n",
    "    head()"
   ]
  },
  {
   "cell_type": "markdown",
   "id": "df3a9651-e139-46f5-b798-abd0796f64e6",
   "metadata": {},
   "source": [
    "17. Benennt `air_time` in `air_time_min` um (um die Einheit mit anzugeben) und bewegt die Variablen an den Anfang des Data Frames."
   ]
  },
  {
   "cell_type": "code",
   "execution_count": null,
   "id": "9797ae12-f164-4064-94e7-2c1db5cc2365",
   "metadata": {},
   "outputs": [],
   "source": [
    "flights %>%\n",
    "    select(air_time_min = air_time, everything()) %>%\n",
    "    head()"
   ]
  },
  {
   "cell_type": "markdown",
   "id": "7aeed5bf-befb-4a30-80f2-15cc81591e80",
   "metadata": {},
   "source": [
    "18. Warum funktioniert der folgende Code nicht? Und was bedeutet der Fehler?\n",
    "\n",
    "```\n",
    "flights %>%\n",
    "  select(tailnum) %>%\n",
    "  arrange(arr_delay)\n",
    "#> Error in `arrange()`:\n",
    "#> ℹ In argument: `..1 = arr_delay`.\n",
    "#> Caused by error:\n",
    "#> ! object 'arr_delay' not found\n",
    "```"
   ]
  },
  {
   "cell_type": "markdown",
   "id": "6f6232f9-46ec-49f8-aa13-58d90b56dfd0",
   "metadata": {},
   "source": [
    "> Nach dem `select()`-Befehl ist nur noch die Variable `tail_num` vorhanden. `select()` und `arrange()` müssten vertauscht werden."
   ]
  },
  {
   "cell_type": "markdown",
   "id": "c242c96f-efbe-4b40-9980-8a4396eec011",
   "metadata": {},
   "source": [
    "19. Welche Fluggesellschaft `carrier` hat die im Durchschnitt größten Verspätungen? Welcher Flughafen `dest` hat im Durchschnitt die größen Verspätungen? Inwiefern hängen die Verspätungen zusammen? Hat ein \"schlechter\" Flughafen vielleicht auch eine Auswirkung auf eine \"schlechte\" Fluggesellschaft? Tipp: es geht in die Richtung `flights %>% group_by(carrier, dest) %>% summarize(n())`"
   ]
  },
  {
   "cell_type": "code",
   "execution_count": null,
   "id": "1587da9c-d65b-4d43-9b0c-ea8cc738f515",
   "metadata": {},
   "outputs": [],
   "source": [
    "# worst average delays of the carrier\n",
    "flights %>%\n",
    "    drop_na() %>%\n",
    "    group_by(carrier) %>%\n",
    "    summarise(avg_delay = round(mean(dep_delay), 1)) %>%\n",
    "    arrange(desc(avg_delay))"
   ]
  },
  {
   "cell_type": "code",
   "execution_count": null,
   "id": "e6a14c63-a5bb-45bd-a21c-b13eead941ac",
   "metadata": {},
   "outputs": [],
   "source": [
    "# worst average delay of the airport\n",
    "airport_avg_delay <- flights %>%\n",
    "    drop_na() %>%\n",
    "    group_by(dest) %>%\n",
    "    summarise(avg_delay_airport = mean(dep_delay, na.rm = TRUE))\n",
    "\n",
    "head(airport_avg_delay)"
   ]
  },
  {
   "cell_type": "code",
   "execution_count": null,
   "id": "a047f1a4-05c8-45d8-9f34-2a52361712fe",
   "metadata": {},
   "outputs": [],
   "source": [
    "# combine both results\n",
    "flights %>%\n",
    "    group_by(dest, carrier) %>%\n",
    "    summarise(avg_delay_carrier_airport = mean(dep_delay, na.rm = TRUE)) %>%\n",
    "    left_join(airport_avg_delay, by = \"dest\") %>%\n",
    "    mutate(diff_from_airport_avg = avg_delay_carrier_airport - avg_delay_airport) %>%\n",
    "    head()"
   ]
  },
  {
   "cell_type": "markdown",
   "id": "c59bdaf2-5a5c-499f-9d2f-48f7ba6753f5",
   "metadata": {},
   "source": [
    "20.  Welche Flüge haben je Flughafen die größte Verspätung? Zeige jeweils den Flug mit der größten Verspätung pro Flughafen an."
   ]
  },
  {
   "cell_type": "code",
   "execution_count": null,
   "id": "9ddf2edc-52bb-464f-8529-4cede6e1cf2f",
   "metadata": {},
   "outputs": [],
   "source": [
    "flights %>%\n",
    "    drop_na() %>%\n",
    "    group_by(dest) %>%\n",
    "    filter(dep_delay == max(dep_delay)) %>%\n",
    "    select(dest, carrier, flight, tailnum, dep_delay) %>%\n",
    "    arrange(desc(dep_delay)) %>%\n",
    "    head()"
   ]
  },
  {
   "cell_type": "markdown",
   "id": "fa0ce03a-265d-465d-91d0-ae152d4e8ff5",
   "metadata": {},
   "source": [
    "21. Wie verändern sich die Verspätungen im Verlauf des Tages? Speichert die Ergebnis in einem neuen Data Frame `data`. Tipp: Ihr könnt mithilfe von [`group_by()`](https://dplyr.tidyverse.org/reference/group_by.html) und [`summarise()`](https://dplyr.tidyverse.org/reference/summarise.html) eine neue Variable `avg_delay` erstellen."
   ]
  },
  {
   "cell_type": "code",
   "execution_count": null,
   "id": "3ac17180-d078-4bf4-8737-93926512371d",
   "metadata": {},
   "outputs": [],
   "source": [
    "data = flights %>%\n",
    "    mutate(dep_time_hour = hour + minute / 60) %>% \n",
    "    group_by(dep_time_hour) %>%\n",
    "    summarise(avg_delay = mean(dep_delay, na.rm = TRUE))\n",
    "\n",
    "head(data)"
   ]
  },
  {
   "cell_type": "markdown",
   "id": "918ba2c0-0b09-4a30-a1eb-2e9ed050c5c7",
   "metadata": {},
   "source": [
    "22. Illustriert Antwort 3 mit einer Grafik mithilfe von [`ggplot()`](https://ggplot2.tidyverse.org/reference/ggplot.html). Tipp: Ihr könnt dafür auf der x-Achse `dep_time_hour` und auf der y-Achse die vorher erstellte Variable `avg_delay` anzeigen."
   ]
  },
  {
   "cell_type": "code",
   "execution_count": null,
   "id": "af8cb02e-c778-43d2-8c78-20120e2777e4",
   "metadata": {},
   "outputs": [],
   "source": [
    "data %>%\n",
    "    ggplot(aes(x = dep_time_hour, y = avg_delay)) +\n",
    "        geom_line(na.rm = TRUE) # fehlende Werte entfernen"
   ]
  },
  {
   "cell_type": "markdown",
   "id": "23a49a77-b957-471c-9feb-e8fd8706ff1d",
   "metadata": {},
   "source": [
    "## Import"
   ]
  },
  {
   "cell_type": "code",
   "execution_count": null,
   "id": "203734a3-67cc-45cb-b575-1bcd5d72da9c",
   "metadata": {},
   "outputs": [],
   "source": [
    "pacman::p_load(tidyverse, janitor, lubridate)"
   ]
  },
  {
   "cell_type": "markdown",
   "id": "8d47d43f-14e6-4aa4-85bd-024ee923cabc",
   "metadata": {},
   "source": [
    "**Fragen:**\n",
    "\n",
    "1. Welche Funktion würdet ihr benutzen um eine Datei zu lesen, die das Zeichen `|` als Trennzeichen nutzt?\n",
    "\n",
    "> `read_delim('datei.txt', delim = '|')`\n",
    "\n",
    "2. Welche Argumente haben [`read_csv()`](https://readr.tidyverse.org/reference/read_delim.html) und [`read_tsv()`](https://readr.tidyverse.org/reference/read_delim.html) gemeinsam, abgesehen von `file`, `skip` und `comment`? Tipp: Schaut hierfür in die [Dokumentation](https://readr.tidyverse.org/reference/read_delim.html) der beiden Funktionen.\n",
    "\n",
    "> Beides sind spezielle Fälle von `read_delim()` - `read_csv()` benutzt ein Komma als Trennzeichen und `read_tsv()` einen Tabulator. Für die gemeinsamen Argumente schaut in die Dokumentation.\n",
    "\n",
    "3. Schaut euch den folgenden Code an. Was passiert, wenn ihr den Code ausführt? Diskutiert, warum der Code so ausgegeben wird."
   ]
  },
  {
   "cell_type": "code",
   "execution_count": null,
   "id": "02ccebd4-7bc1-4238-965d-f5ccd69660a9",
   "metadata": {},
   "outputs": [],
   "source": [
    "read_csv(\"a,b\\n1,2,3\\n4,5,6\")\n",
    "read_csv(\"a,b,c\\n1,2\\n1,2,3,4\")\n",
    "read_csv(\"a,b\\n\\\"1\")\n",
    "read_csv(\"a,b\\n1,2\\na,b\")\n",
    "read_csv(\"a;b\\n1;3\")"
   ]
  },
  {
   "cell_type": "markdown",
   "id": "7774d53f-b773-4a51-8939-276f42e185fb",
   "metadata": {},
   "source": [
    "4. Es kann immer wieder vorkommen, dass ihr in Datensätzen Variablen begegnet, die nicht der klassischen R-Syntax entsprechen. Im Folgenden wird ein `tibble` erzeugt, der als Spaltennamen `1` und `2` hat."
   ]
  },
  {
   "cell_type": "code",
   "execution_count": null,
   "id": "6bf37232-c1f3-4b6f-b4be-f6c39b55f70a",
   "metadata": {},
   "outputs": [],
   "source": [
    "# Mit diesem Code erzeugt ihr den tibble\n",
    "annoying <- tibble(\n",
    "  `1` = 1:10,\n",
    "  `2` = `1` * 2 + rnorm(length(`1`))\n",
    ")"
   ]
  },
  {
   "cell_type": "markdown",
   "id": "2db1e8b8-8018-42d0-bfae-ee516e08aa0a",
   "metadata": {},
   "source": [
    "Versucht die folgenden Befehle zu coden, um den Umgang mit *non-syntactic*  Variablen zu üben:\n",
    "\n",
    "* Gebt die Spalte der Variable `1` aus."
   ]
  },
  {
   "cell_type": "code",
   "execution_count": null,
   "id": "897d9837-1aab-476a-936f-2b9e574989d2",
   "metadata": {},
   "outputs": [],
   "source": [
    "annoying$`1`"
   ]
  },
  {
   "cell_type": "markdown",
   "id": "a15c1683-d69b-4e42-bbb2-f7c3f26190d5",
   "metadata": {},
   "source": [
    "* Erstellt einen einfach Plot mit [`ggplot2`](https://ggplot2.tidyverse.org/), bei dem `1` auf der x-Achse liegt und `2` auf der y-Achse."
   ]
  },
  {
   "cell_type": "code",
   "execution_count": null,
   "id": "169656fa-78e3-4070-b4df-07093aac2992",
   "metadata": {},
   "outputs": [],
   "source": [
    "ggplot(annoying, aes(x = `1`, y = `2`)) +\n",
    "    geom_line()"
   ]
  },
  {
   "cell_type": "markdown",
   "id": "82022b1b-e2c5-42e0-af0f-d92523e8719f",
   "metadata": {},
   "source": [
    "* Fügt dem Datensatz eine neue Spalte `3` hinzu, die mit `2` geteilt durch `1` berechnet wird."
   ]
  },
  {
   "cell_type": "code",
   "execution_count": null,
   "id": "7f940749-f8c4-4677-9f63-35449ef36fb9",
   "metadata": {},
   "outputs": [],
   "source": [
    "annoying %>%\n",
    "    mutate(`3` = `2` / `1`)"
   ]
  },
  {
   "cell_type": "markdown",
   "id": "a1dd1ef2-4d73-4330-b233-472e2b6b00f5",
   "metadata": {},
   "source": [
    "* Nennt die Spalten in `one`, `two` und `three` um."
   ]
  },
  {
   "cell_type": "code",
   "execution_count": null,
   "id": "9ee0e43a-b171-4a39-b2b4-788b642e7fe8",
   "metadata": {},
   "outputs": [],
   "source": [
    "annoying %>%\n",
    "    mutate(`3` = `2` / `1`) %>%\n",
    "    rename(one = `1`, two = `2`, three = `3`)"
   ]
  },
  {
   "cell_type": "markdown",
   "id": "22d69d03-efbe-4a1c-9597-e547e015ba63",
   "metadata": {},
   "source": [
    "5. Für welchen Zeitraum liegen Daten vor und wie kann man diesen Zeitraum einfach ausgeben?\n"
   ]
  },
  {
   "cell_type": "code",
   "execution_count": null,
   "id": "1caaa53c-edad-426e-9229-0088c465e2bf",
   "metadata": {},
   "outputs": [],
   "source": [
    "# Zeitraum Beginn & Ende\n",
    "min(data$date)\n",
    "max(data$date)"
   ]
  },
  {
   "cell_type": "markdown",
   "id": "1142c242-6bfc-4515-9c27-a47e915e8b7c",
   "metadata": {},
   "source": [
    "6. Wie viele Tage liegen innerhalb dieses Zeitraums?"
   ]
  },
  {
   "cell_type": "code",
   "execution_count": null,
   "id": "4cba53c2-0f9a-4009-be44-667e92f37473",
   "metadata": {},
   "outputs": [],
   "source": [
    "# Anzahl Tage\n",
    "data$date %>%\n",
    "    unique() %>%\n",
    "    length()"
   ]
  },
  {
   "cell_type": "markdown",
   "id": "43112da2-0e48-402c-b6ec-80b88cddbdeb",
   "metadata": {},
   "source": [
    "7. Welche Trends und Muster können wir in dem Datensatz erkennen?\n",
    "* Ist ein genereller Trend zu erkennen?\n",
    "> Es ist ein leicht stagnierende Energieproduktion in Deutschland zu erkennen.\n",
    "\n",
    "* Wie erklärt ihr euch die großen Schwankungen in der gesamten Energiemenge?\n",
    "> Im Winter wird durch Heizen, Licht, etc. wesentlich mehr Energie benötigt als im Sommer.\n",
    "\n",
    "* Wodurch entstehen die großen Schwankungen im Bereich der erneuerbaren Energien?\n",
    "> U.a. Durch die Unregelmäßigkeit von Sonne & Wind."
   ]
  },
  {
   "cell_type": "markdown",
   "id": "752d2b96-fa1f-4302-9204-d19854cdf3a1",
   "metadata": {},
   "source": [
    "8. Erstelle eine Tabelle, in der für jedes Jahr die absoluten Energiemengen, die in Deutschland produziert werden, zusammengefasst sind."
   ]
  },
  {
   "cell_type": "code",
   "execution_count": null,
   "id": "9cddbc21-eb73-4800-99a3-89106a472f33",
   "metadata": {},
   "outputs": [],
   "source": [
    "# Aggregate quantity at yearly level\n",
    "data %>%\n",
    "    mutate(year = year(date)) %>%  # Extract year from the date\n",
    "    group_by(year) %>%             # Group by year\n",
    "    summarise(quantity_TWh = sum(quantity_TWh), .groups = \"drop\") %>%  # Sum quantity for each year\n",
    "    print()"
   ]
  },
  {
   "cell_type": "markdown",
   "id": "3fa27f11-f70f-416b-9705-01ce6aa019c9",
   "metadata": {},
   "source": [
    "9. Erstelle eine Tabelle, bei der fossile und erneuerbare Energiemengen jeweils zusammengefasst werden und lass dir diese dann anzeigen."
   ]
  },
  {
   "cell_type": "code",
   "execution_count": null,
   "id": "25000969-bd27-488e-ba44-2d140fe2720d",
   "metadata": {},
   "outputs": [],
   "source": [
    "data_yearly = data %>%\n",
    "    mutate(year = year(date)) %>% # wir wollen lediglich das Jahr betrachten\n",
    "    mutate(\n",
    "        type = case_match(\n",
    "            type,\n",
    "            c(\"Biomass\", \"Geothermal\", \"Hydro\", \"Solar\", \"Wind\") ~ \"Renewable\",\n",
    "            c(\"Fossil Coal\", \"Fossil Gas\", \"Fossil Oil\", \"Nuclear\") ~ \"Fossil\",\n",
    "            .default = type)\n",
    "        ) %>%\n",
    "    group_by(year, type) %>% # group by year\n",
    "    summarize(quantity_TWh = sum(quantity_TWh), .groups = \"drop\") # sum quantity for each year\n",
    "\n",
    "# für eine bessere Darstellung können wir den Dataframe entpivotieren:\n",
    "data_yearly %>%\n",
    "    pivot_wider(names_from = type, values_from = quantity_TWh) %>% # unpivot\n",
    "    print()"
   ]
  },
  {
   "cell_type": "markdown",
   "id": "7af1ce2e-7557-42f3-9c31-93da318cf1bd",
   "metadata": {},
   "source": [
    "10. Wie kann die Tabelle aus der vorhergehenden Frage 9 als Balkendiagramm dargestellt werden? Verwende `geom_text()`, um außerdem den prozentuellen Anteil der drei Typen `Fossil`, `Other` und `Renewables` an der Gesamtenergiemenge darzustellen!"
   ]
  },
  {
   "cell_type": "code",
   "execution_count": null,
   "id": "bbc70eb3-c695-4d5e-bcc4-2c9ee236fce8",
   "metadata": {},
   "outputs": [],
   "source": [
    "# Darstellung als Balkendiagramm\n",
    "ggplot(data_yearly, aes(x = year, y = quantity_TWh, fill = type)) +\n",
    "    geom_bar(stat = \"identity\") +\n",
    "    # add percentage labels\n",
    "    geom_text(\n",
    "        aes(label = paste0(\n",
    "            round(100 * quantity_TWh / tapply(quantity_TWh, year, sum)[as.character(year)], 1), \n",
    "            \"%\")),\n",
    "        position = position_stack(vjust = 0.5), size = 8) +\n",
    "\n",
    "    labs(title = \"Energieproduktion in Deutschland (TWh)\", x = \"Jahr\", y = \"Energiemenge (TWh)\") +\n",
    "    theme_classic(base_size = 20)"
   ]
  },
  {
   "cell_type": "markdown",
   "id": "51b903a4-eb99-4111-9607-b045b87a62df",
   "metadata": {},
   "source": [
    "## Datenbanken\n",
    "\n"
   ]
  },
  {
   "cell_type": "code",
   "execution_count": null,
   "id": "ba284513-e454-4e97-9548-f30616614372",
   "metadata": {},
   "outputs": [],
   "source": [
    "pacman::p_load(tidyverse,   # zum allgemeinen Datenhandling\n",
    "               DBI,         # für SQL-Abfragen\n",
    "               dbplyr,      # um dplyr-Funktionen in SQL zu \"übersetzen\"\n",
    "               duckdb,      # zur Simulation einer Datenbank\n",
    "               nycflights13 # als Beispieldaten\n",
    "              )\n",
    "\n",
    "con <- duckdb::duckdb() %>%\n",
    "    DBI::dbConnect()\n",
    "\n",
    "con %>%\n",
    "    dbWriteTable(\"flights\", nycflights13::flights)\n",
    "\n",
    "con %>%\n",
    "    dbWriteTable(\"planes\", nycflights13::planes)\n",
    "\n",
    "flights_db <- tbl(con, \"flights\")\n",
    "planes_db <- tbl(con, \"planes\")"
   ]
  },
  {
   "cell_type": "markdown",
   "id": "37641319-16be-4c98-8250-bbcfbf09f4ca",
   "metadata": {},
   "source": [
    "1. Wie wird `distinct()` in SQL übersetzt? Und wie `head()`?"
   ]
  },
  {
   "cell_type": "code",
   "execution_count": null,
   "id": "17fb25ae-ac43-4eb5-a112-28b0d8fa753d",
   "metadata": {},
   "outputs": [],
   "source": [
    "flights_db %>%\n",
    "    distinct(dest) %>%\n",
    "    show_query()"
   ]
  },
  {
   "cell_type": "code",
   "execution_count": null,
   "id": "5d445ced-2e20-48d6-8a7c-4c3cd77c8013",
   "metadata": {},
   "outputs": [],
   "source": [
    "flights_db %>%\n",
    "    head(5) %>%\n",
    "    show_query()"
   ]
  },
  {
   "cell_type": "markdown",
   "id": "e649e2a6-da3c-469c-9fad-1c505bde44cc",
   "metadata": {},
   "source": [
    "2. Versucht die beiden SQL-queries im Kopf durchzudenken und zu überlegen, was diese tun. Anschließend reproduziert den Code mithilfe von `dbplyr`.\n",
    "\n",
    "```\n",
    "SELECT * \n",
    "FROM flights\n",
    "WHERE dep_delay < arr_delay\n",
    "```"
   ]
  },
  {
   "cell_type": "code",
   "execution_count": null,
   "id": "841bd344-607f-4fb1-9fd0-5ce6dd4e7f41",
   "metadata": {},
   "outputs": [],
   "source": [
    "flights_db %>%\n",
    "    filter(dep_delay < arr_delay) %>%\n",
    "    show_query()"
   ]
  },
  {
   "cell_type": "markdown",
   "id": "f2002a5e-7c69-4a3b-8389-f19ff7c29384",
   "metadata": {},
   "source": [
    "```\n",
    "SELECT *, distance / (air_time / 60) AS speed\n",
    "FROM flights\n",
    "```"
   ]
  },
  {
   "cell_type": "code",
   "execution_count": null,
   "id": "288d4ddc-c107-46f9-abf5-8cf640cfbbb8",
   "metadata": {},
   "outputs": [],
   "source": [
    "flights_db %>%\n",
    "    mutate(speed = distance/(air_time/60)) %>%\n",
    "    show_query()"
   ]
  },
  {
   "cell_type": "markdown",
   "id": "2853ccb1-dc4e-4e98-9b76-eee49e5261d0",
   "metadata": {},
   "source": [
    "3. Findet alle Flüge aus der Tabelle `flights_db`, die eine Verspätung von mehr als 30 Minuten hatten."
   ]
  },
  {
   "cell_type": "code",
   "execution_count": null,
   "id": "96af9466-904e-4ad9-9110-37e835bfbeb5",
   "metadata": {},
   "outputs": [],
   "source": [
    "flights_db %>%\n",
    "    filter(dep_delay > 30) %>%\n",
    "    show_query()"
   ]
  },
  {
   "cell_type": "markdown",
   "id": "7fe98022-b829-469a-9d10-94ff91a277b8",
   "metadata": {},
   "source": [
    "4. Verwendet `dbplyr`, um die durchschnittliche Verspätung (sowohl `dep_delay` als auch `arr_delay`) pro Fluggesellschaft `carrier` zu berechnen. Überlegt euch **vorher**, wie der dazugehörige SQL-Code aussehen wird und vergleicht dann eure Ergebnisse!"
   ]
  },
  {
   "cell_type": "code",
   "execution_count": null,
   "id": "0ac0ce5f-b20c-44ec-bfad-1717f33f2021",
   "metadata": {},
   "outputs": [],
   "source": [
    "flights_db %>%\n",
    "    group_by(carrier) %>%\n",
    "    summarise(avg_dep = avg(dep_delay), avg_arr = avg(arr_delay)) %>%\n",
    "    show_query()"
   ]
  },
  {
   "cell_type": "markdown",
   "id": "7f08b1c4-81ee-4789-b9e7-d94f2f625382",
   "metadata": {},
   "source": [
    "5. Erzeugt eine neue Spalte in `flights_db`, die die Gesamtverspätung `total_delay` als Summe von `dep_delay` und `arr_delay` darstellt. Überlegt euch vorher, wie der dazugehörige SQL-Code aussehen wird, und vergleicht anschließend das Ergebnis damit."
   ]
  },
  {
   "cell_type": "code",
   "execution_count": null,
   "id": "e0977e19-16e4-4d09-9b4e-3da95a1d05b7",
   "metadata": {},
   "outputs": [],
   "source": [
    "flights_db %>%\n",
    "    mutate(total_delay = dep_delay + arr_delay) %>%\n",
    "    show_query()"
   ]
  },
  {
   "cell_type": "markdown",
   "id": "6458955b-cec8-4dc5-a397-87aecf87fbef",
   "metadata": {},
   "source": [
    "6. Schaut euch die Dokumentation von [`between()`](https://dplyr.tidyverse.org/reference/between.html) and und überlegt euch, wie ihr mithilfe von `filter()` und [`between()`](https://dplyr.tidyverse.org/reference/between.html) alle Flüge aus `flights_db` auswählen könnt, bei denen die `air_time` zwischen 60 und 120 Minuten und die `distance` weniger als 500 Meilen beträgt. Schaut euch anschließend an, wie das ganze in SQL-Code übersetzt wird."
   ]
  },
  {
   "cell_type": "code",
   "execution_count": null,
   "id": "7b0a01ce-5e2b-427a-ad3c-e85c921924e7",
   "metadata": {},
   "outputs": [],
   "source": [
    "flights_db %>%\n",
    "    filter(between(air_time, 60, 120), distance < 500) %>%\n",
    "    show_query()"
   ]
  },
  {
   "cell_type": "markdown",
   "id": "73b53ec5-c8f7-4fcb-93d6-a4c036a1e0c8",
   "metadata": {},
   "source": [
    "7. Was macht der folgende Code? Überlegt euch, wie das ganze in SQL aussehen wird und vergleicht anschließend.\n",
    "\n",
    "```\n",
    "flights_db %>%\n",
    "  group_by(origin) %>%\n",
    "  summarise(\n",
    "    flights_count = n(),\n",
    "    avg_dep_delay = mean(dep_delay, na.rm = TRUE),\n",
    "    max_distance = max(distance, na.rm = TRUE)\n",
    "  )\n",
    "```"
   ]
  },
  {
   "cell_type": "code",
   "execution_count": null,
   "id": "0a21e2cd-4452-4618-bd6f-b59cd3facb04",
   "metadata": {},
   "outputs": [],
   "source": [
    "flights_db %>%\n",
    "  group_by(origin) %>%\n",
    "  summarise(\n",
    "    flights_count = n(),\n",
    "    avg_dep_delay = mean(dep_delay, na.rm = TRUE),\n",
    "    max_distance = max(distance, na.rm = TRUE)\n",
    "  )"
   ]
  },
  {
   "cell_type": "markdown",
   "id": "c705d7fa-b7ef-4cea-8d2a-829c4aa5a112",
   "metadata": {},
   "source": [
    "## Decision Trees"
   ]
  },
  {
   "cell_type": "code",
   "execution_count": null,
   "id": "a5eee9a4-81f4-4ca6-806f-cf21e2e0d7fd",
   "metadata": {},
   "outputs": [],
   "source": [
    "pacman::p_load(\n",
    "    tidyverse, \n",
    "    tidymodels,\n",
    "    rpart.plot, # rpart.plot can be used to plot our decision tree models \n",
    "    vip # create variable importance plots to evaluate the importance of each parameter in our model\n",
    ")\n",
    "\n",
    "# Jupyter Notebook options\n",
    "options(repr.plot.width = 16, repr.plot.height = 12) # make plots wider\n",
    "\n",
    "mushroom <- read_csv(\"data/mushrooms.csv\", show_col_types = FALSE) %>% # Daten einlesen\n",
    "      mutate_if(is.character,as.factor) # alle Spalten vom Typ character in Typ factor umwandeln"
   ]
  },
  {
   "cell_type": "markdown",
   "id": "4d9e737c-d994-4caf-9e42-69775d3f2bf1",
   "metadata": {},
   "source": [
    "1. Wieviele der Pilze sind `edible`? Wieviele `poisonous`?\n",
    "\n",
    "> 4208 sind `edible`, 3916 `poisonous`"
   ]
  },
  {
   "cell_type": "markdown",
   "id": "212cba2d-7005-464b-b42f-e29ff522b01e",
   "metadata": {},
   "source": [
    "2. Welche Farben kann `cap_color` annehmen?\n",
    "\n",
    "> brown, grey, red, yellow, white, buff, ..."
   ]
  },
  {
   "cell_type": "markdown",
   "id": "47b4a5ba-326f-48a7-b09e-5aacb44d1df5",
   "metadata": {},
   "source": [
    "3. Erstellt einen zweiten Plot mithilfe von `facet_wrap()`, stellt diesmal aber 6 andere Variablen und 3 Diagramme pro Spalte dar."
   ]
  },
  {
   "cell_type": "code",
   "execution_count": null,
   "id": "2a5d86ba-2fb7-4757-b4c4-09cfc9beb223",
   "metadata": {},
   "outputs": [],
   "source": [
    "mushroom %>%\n",
    "    select(bruises, cap_shape, cap_surface, veil_type, ring_number, ring_type) %>% \n",
    "    pivot_longer(cols = everything(), names_to = \"variable\", values_to = \"value\") %>% \n",
    "ggplot(aes(x = value)) +\n",
    "    geom_bar(stat = \"count\", color = \"black\", fill = \"lightblue\") +\n",
    "    facet_wrap(~variable, scales = \"free\", ncol = 3) + \n",
    "    labs(title = \"Häufigkeit der Variablen im mushroom Datensatz\", x = \"Variable\", y = \"Häufigkeit\") +\n",
    "    theme_minimal(base_size = 20)"
   ]
  },
  {
   "cell_type": "markdown",
   "id": "e095137c-1759-4e44-a1fa-b62abc95e0f2",
   "metadata": {},
   "source": [
    "4. Überlegt euch eine weitere nützliche Visualisierung im Kopf, beispielsweise von einer Variable. Wenn ihr möchtet, könnt ihr die Visualisierung auch direkt umsetzen:"
   ]
  },
  {
   "cell_type": "markdown",
   "id": "4d7ebae9-ce28-4dd3-8a5e-48d40ee7ac59",
   "metadata": {},
   "source": [
    "5. Gibt den folgenden Code aus und versucht ihn anschließend zu interpretieren. Wie würdet ihr den Output lesen?\n",
    "\n",
    "```\n",
    "tree_fit$fit\n",
    "```\n",
    "\n",
    "Output:\n",
    "```\n",
    "n= 6093 \n",
    "\n",
    "node), split, n, loss, yval, (yprob)\n",
    "      * denotes terminal node\n",
    "\n",
    "1) root 6093 2953 edible (0.51534548 0.48465452)  \n",
    "  2) odor=almond,anise,none 3228   88 edible (0.97273854 0.02726146)  \n",
    "    4) spore_print_color=black,brown,buff,chocolate,orange,purple,white,yellow 3173   33 edible (0.98959975 0.01040025) *\n",
    "    5) spore_print_color=green 55    0 poisonous (0.00000000 1.00000000) *\n",
    "  3) odor=creosote,fishy,foul,musty,pungent,spicy 2865    0 poisonous (0.00000000 1.00000000) *\n",
    "```\n",
    "\n",
    "> Der Output beschreibt die Entscheidungsregeln, die sich unser Modell antrainiert hat. Jede Zeile mit einer Nummer vorne stellt eine Verzweigung im Baum dar. Die Einrückungen symbolisieren die Entscheidungsebene."
   ]
  },
  {
   "cell_type": "markdown",
   "id": "846291c3-770e-46fe-9e12-5b804f49fe59",
   "metadata": {},
   "source": [
    "6. Welche Variable scheint den größten Einfluss auf die Giftigkeit/Essbarkeit der Pilze zu haben?\n",
    "\n",
    "> `odor` scheint einen großen Einfluss auf das Ergebnis des Tests zu haben, da es als erste Regel angewendet wird!"
   ]
  },
  {
   "cell_type": "markdown",
   "id": "b859f7eb-8cab-4cc7-8d76-6e6c283f6918",
   "metadata": {},
   "source": [
    "7. Wie interpretiert ihr die Tabelle?\n",
    "\n",
    "```\n",
    "           Truth\n",
    "Prediction  edible poisonous\n",
    "  edible      1068        15\n",
    "  poisonous      0       948\n",
    "```\n",
    "\n",
    "> Wir haben auf der linken Seite die Vorhersagen `Prediction` und oben die tatsächlichen Werte `Truth`. In jeder Zelle steht die Anzahl der Fälle, für die eine bestimmte Kombination aus Vorhersage und tatsächlichem Wert gegeben ist."
   ]
  },
  {
   "cell_type": "markdown",
   "id": "b420fc43-ea49-4381-8d63-4bcc9470f378",
   "metadata": {},
   "source": [
    "8. Wie würdet ihr die `accuracy` unseres Modells händisch mithilfe der Confusion Matrix berechnen?\n",
    "\n",
    "> $accuracy = 1 - 15 / (1068 + 15 + 948) \\thickapprox 0.993$ "
   ]
  },
  {
   "cell_type": "markdown",
   "id": "9df82708-b35b-4d66-a705-a3e343c67f97",
   "metadata": {},
   "source": [
    "9. Vergleicht den Variable Importance Plot mit den Regeln, die wir weiter oben mit `tree_fit$fit` ausgegeben haben. Stimmen die Ergebnisse des Variable Importance Plots mit den Regeln des Entscheidungsbaumes überein?\n",
    "\n",
    "> Wir können in dem Variable Importance Plot gut erkennen, dass die beiden wichtigsten Variablen `odor` und `spore_print_color` auch die beiden Variablen sind, die als Entscheidungsverzweigungen im Baum auftauchen!"
   ]
  },
  {
   "cell_type": "markdown",
   "id": "b1342143-a70a-434d-905f-c1fbf577f60d",
   "metadata": {},
   "source": [
    "10. Überlegt euch kurz 1-2 Minuten, inwiefern solche Algorithmen gesellschaftlich kritisiert werden könnten/sollten. Was ist eure Meinung dazu?"
   ]
  },
  {
   "cell_type": "code",
   "execution_count": null,
   "id": "35681976-2128-4e61-83d3-8a8f73e5a2bb",
   "metadata": {},
   "outputs": [],
   "source": [
    "credit <- read_csv(\"data/credit.csv\", show_col_types = FALSE) %>% # Daten einlesen\n",
    "      mutate(across(where(is.character), as.factor)) # alle Spalten vom Typ character in Typ factor umwandeln"
   ]
  },
  {
   "cell_type": "markdown",
   "id": "62d329b5-d0ab-4445-8bbe-1770eeddf305",
   "metadata": {},
   "source": [
    "11. Exploriert den Datensatz mithilfe von `glimpse()` und `summary()`"
   ]
  },
  {
   "cell_type": "code",
   "execution_count": null,
   "id": "18189d51-ad93-4e87-8905-4c156b469520",
   "metadata": {},
   "outputs": [],
   "source": [
    "credit %>% glimpse()\n",
    "credit %>% summary()"
   ]
  },
  {
   "cell_type": "markdown",
   "id": "32256e0e-b40d-4493-9719-dddf06a74675",
   "metadata": {},
   "source": [
    "12. Schaut euch die vorhandenen Variablen an. Ist bei jeder Variable klar, was gemeint ist? Falls nicht, versucht im [Machine Learning Repository](http://archive.ics.uci.edu/dataset/144/statlog+german+credit+data) eine Dokumentation zum Datensatz zu finden."
   ]
  },
  {
   "cell_type": "markdown",
   "id": "5c783d98-af17-4d96-bd7b-90c320c08fba",
   "metadata": {},
   "source": [
    "13. Versucht jetzt analog zu den Pilzen eine grafische Darstellung mit `facet_wrap()` umzusetzen. `credit` hat neben Variablen vom Typ `factor` (kategorisch) auch den Typ `double` (numerisch). Beide Variablentypen müssen unterschiedlich dargestellt werden. Beim Typ `factor` könnt ihr wieder `geom_bar(stat = \"count\")` benutzen, so wie bei den Pilzen. Beim Typ `double` könnt ihr `geom_histogram()` nutzen. Tipp: Filtert mithilfe von `select(where(is.factor))` den Datensatz zunächst auf alle Faktoren, und analog mit `is.double` auf alle Dobules. "
   ]
  },
  {
   "cell_type": "code",
   "execution_count": null,
   "id": "66952b6a-549f-4eda-a723-eeea4b8fa9cb",
   "metadata": {},
   "outputs": [],
   "source": [
    "credit %>%\n",
    "    select(where(is.factor)) %>%\n",
    "    pivot_longer(cols = everything(), names_to = \"variable\", values_to = \"value\") %>%\n",
    "    ggplot(aes(x = value)) +\n",
    "        geom_bar(stat = \"count\", color = \"black\", fill = \"lightblue\") +\n",
    "        facet_wrap(~variable, scales = \"free\", ncol = 5) +\n",
    "        labs(title = \"Bar plots of Categorical Variables in the German credit data set\", x = \"Value\", y = \"Frequency\") +\n",
    "        theme_minimal(base_size = 20)\n",
    "\n",
    "credit %>%\n",
    "    select(where(is.double)) %>%\n",
    "    pivot_longer(cols = everything(), names_to = \"variable\", values_to = \"value\") %>%\n",
    "    ggplot(aes(x = value)) +\n",
    "        geom_histogram(bins = 30, color = \"black\", fill = \"lightblue\") +\n",
    "        facet_wrap(~variable, scales = \"free\", ncol = 5) +\n",
    "        labs(title = \"Histograms of Numeric Variables in the German credit data set\", x = \"Value\", y = \"Frequency\") +\n",
    "        theme_minimal(base_size = 20)"
   ]
  },
  {
   "cell_type": "markdown",
   "id": "6ba77413-47de-4cd3-9721-18177f054f4e",
   "metadata": {},
   "source": [
    "14. Teilt den Datensatz auf in Trainings- und Testdaten (analog zu den Pilzen)."
   ]
  },
  {
   "cell_type": "code",
   "execution_count": null,
   "id": "e8a8d114-d7ff-45cf-ad06-d14dc547fe8e",
   "metadata": {},
   "outputs": [],
   "source": [
    "# split the data\n",
    "set.seed(123)\n",
    "\n",
    "data_split <- credit %>%\n",
    "    initial_split(prop = 0.75)\n",
    "\n",
    "train_data <- data_split %>%\n",
    "     training()\n",
    "\n",
    "test_data <- data_split %>%\n",
    "    testing()"
   ]
  },
  {
   "cell_type": "markdown",
   "id": "b7041fae-e11f-43de-965d-157a6773f4c0",
   "metadata": {},
   "source": [
    "15. Trainiert das Modell (analog zu den Pilzen). Setzt wieder `\"rpart\"` als Engine, `\"classification\"` als Mode. Die Zielvariable ist `default`, die Formel für `fit()` muss also auf `default ~ .` angepasst werden!"
   ]
  },
  {
   "cell_type": "code",
   "execution_count": null,
   "id": "45aa93e3-088d-4a90-9af2-93d9c5f98ad6",
   "metadata": {},
   "outputs": [],
   "source": [
    "# Modell definieren\n",
    "tree_spec <- decision_tree() %>%\n",
    "    set_engine(\"rpart\") %>%\n",
    "    set_mode(\"classification\")\n",
    "\n",
    "# Modell trainieren\n",
    "tree_fit <- tree_spec %>%\n",
    "    fit(default ~ ., data = train_data)"
   ]
  },
  {
   "cell_type": "markdown",
   "id": "70b52b83-dc80-47f4-9a8c-f721559b7ced",
   "metadata": {},
   "source": [
    "16. Wenn ihr wollt, könnt ihr euch wieder die Regeln des Modells mithilfe von `tree_fit$fit` ausgeben lassen oder zusätzlich noch mit `rpart.plot()` visualisieren."
   ]
  },
  {
   "cell_type": "code",
   "execution_count": null,
   "id": "4a33b406-baf5-4b2c-930a-1caceff2c2d3",
   "metadata": {},
   "outputs": [],
   "source": [
    "tree_fit$fit"
   ]
  },
  {
   "cell_type": "code",
   "execution_count": null,
   "id": "e147b04a-6b4e-47bc-ae80-d1c48df1c74d",
   "metadata": {},
   "outputs": [],
   "source": [
    "# Decision Tree visualisieren\n",
    "tree_fit$fit %>%\n",
    "    rpart.plot(\n",
    "        type = 4, # Typ des Plot - Wert 4 erzeugt gezeichneten Baum mit abgerundeten Ecken und variabler Breite der Zweige\n",
    "        extra = 101, # Zeige die Anzahl der Fälle in jedem Knoten und den Prozentsatz der Beobachtungen im Knoten im Vergleich zur Gesamtzahl der Beobachtungen\n",
    "        cex = 1.0, # Größe des Textes / der Labels\n",
    "        roundint = FALSE # Zeige die Aufteilungspunkte als Fließkommazahlen anstatt als ganze Zahlen\n",
    "    )"
   ]
  },
  {
   "cell_type": "markdown",
   "id": "9a11a662-0ad3-4377-9b41-0f972d7eb7b3",
   "metadata": {},
   "source": [
    "17. Evaluiert das Modell. Erstellt dafür zunächst eine Confusion Matrix. Wie gut funktioniert das Modell? Achtung: denkt daran, dass unsere Zielvariable sich zu `default` geändert hat!"
   ]
  },
  {
   "cell_type": "code",
   "execution_count": null,
   "id": "605e571b-0a1f-4617-baf0-07c3656a3e81",
   "metadata": {},
   "outputs": [],
   "source": [
    "# directly compare the test data with the predicted data?\n",
    "results <- test_data %>%\n",
    "  mutate(predicted = predict(tree_fit, test_data, type = \"class\")$.pred_class)\n",
    "\n",
    "# create a confusion matrix\n",
    "results %>%\n",
    "    conf_mat(truth = default, estimate = predicted)"
   ]
  },
  {
   "cell_type": "markdown",
   "id": "0fc8f580-e336-4b07-9474-713fc459bb1d",
   "metadata": {},
   "source": [
    "18. Was für eine `accuracy` erhalten wir dieses mal? Ihr könnt die `accuracy` entweder händisch berechnen, oder wie bei den Pilzen mithilfe von `yardstick` (der Code funktioniert analog)."
   ]
  },
  {
   "cell_type": "code",
   "execution_count": null,
   "id": "c5464963-afa8-4838-a261-94f1e29aad39",
   "metadata": {},
   "outputs": [],
   "source": [
    "metrics <- metric_set(accuracy)\n",
    "model_performance <- test_data %>%\n",
    "    mutate(predictions = predict(tree_fit, test_data, type = \"class\")$.pred_class) %>%\n",
    "    metrics(truth = default, estimate = predictions) %>%\n",
    "    print()"
   ]
  },
  {
   "cell_type": "markdown",
   "id": "727079ec-1d90-4302-bd61-c258a7324f33",
   "metadata": {},
   "source": [
    "19. Überlegt euch, welchen Fall Banken auf jeden Fall vermeiden wollen.\n",
    "\n",
    "|   | *Truth*: yes | *Truth*: yes |\n",
    "|-------------|--------|-----------|\n",
    "| ***Prediction***: no      | Fall A | Fall B    |\n",
    "| ***Prediction***: no   | Fall C | Fall D    |\n",
    "\n",
    "> Banken wollen Fall B um alle Fälle vermeiden. Fall B tritt ein, wenn die Bank **nicht** vorhersagt, dass eine Person insolvent wird, obwohl dies passiert. Das bedeutet dann einen Komplettverlust für die Investition vonseiten der Bank."
   ]
  },
  {
   "cell_type": "markdown",
   "id": "8766757f-189f-47e0-9790-0be99a88cebd",
   "metadata": {},
   "source": [
    "20. Versucht anschließend, das Modell mithilfe einer Kostenfunktion zu verbessern. Hinweis: es kann sein, dass die `accuracy` niedriger wird. Lohnt es sich trotzdem für eine Bank, eine Kostenfunktion einzuführen?"
   ]
  },
  {
   "cell_type": "code",
   "execution_count": null,
   "id": "9180e175-591b-418b-b90c-1a8a7571ee12",
   "metadata": {},
   "outputs": [],
   "source": [
    "cost_matrix <- matrix(c(0, 4, 1, 0), nrow = 2)\n",
    "\n",
    "tree_fit_improved <- decision_tree() %>% \n",
    "  set_engine(\"rpart\", parms = list(loss = cost_matrix)) %>% # Kostenfunktion einführen\n",
    "  set_mode(\"classification\") %>% \n",
    "  fit(default ~ ., data = train_data)\n",
    "\n",
    "results <- test_data %>%\n",
    "  mutate(predicted = predict(tree_fit_improved, test_data, type = \"class\")$.pred_class)\n",
    "\n",
    "results %>%\n",
    "    conf_mat(truth = default, estimate = predicted)\n",
    "\n",
    "metrics <- metric_set(accuracy)\n",
    "\n",
    "model_performance <- test_data %>%\n",
    "    mutate(predictions = predict(tree_fit_improved, test_data, type = \"class\")$.pred_class) %>%\n",
    "    metrics(truth = default, estimate = predictions) %>%\n",
    "    print()"
   ]
  },
  {
   "cell_type": "markdown",
   "id": "e41ed08c-8a81-459c-8d77-e83ba991705d",
   "metadata": {},
   "source": [
    "## Lineare Regression"
   ]
  },
  {
   "cell_type": "markdown",
   "id": "beda1194-81c5-400d-b6aa-ee3094ee8b2d",
   "metadata": {},
   "source": [
    "1. Was für eine Grafik erwartet ihr, wenn die Regression für jede einzelne Spezies ausgeführt wird?\n",
    "\n",
    "> Die Regression wird pro Spezies ausgeführt. Der allgemeine Trend des Zusammenhangs von `body_mass_g` und `flipper_length_mm` sollte gleich bleiben, allerdings sind die Regressionsgeraden für die einzelnen Spezies eventuell leicht unterschiedlich."
   ]
  },
  {
   "cell_type": "markdown",
   "id": "07cf31a2-8354-4478-a42c-e9de89ee441c",
   "metadata": {},
   "source": [
    "2. Bevor ihr den Code ausführt, überlegt euch, was jede Zeile macht. Schlagt dafür gerne den Befehl `do()` einmal kurz nach!\n",
    "\n",
    "```\n",
    "penguins %>%\n",
    "    drop_na() %>% # entfernt alle NA-Werte (missing values) des Datensatzes\n",
    "    group_by(species) %>% # gruppiert den Datensatz nach der Variable species\n",
    "    do(tidy(lm(body_mass_g ~ flipper_length_mm, data = .)))\n",
    "```\n",
    "\n",
    "> `do()` wendet die Befehle innerhalb der Klammern auf jede Gruppe an, die vorher von `group_by()` erzeugt wurde. `lm(body_mass_g ~ flipper_length_mm, data = .)` ist ein lineare Modell, bei dem `body_mass_g` in Verhältnis zu `flipper_length_mm` gesetzt wird. Mit `data = .` geben wir an, dass die lineare Regression auf den gruppierten Datensatz innerhalb der Pipe angewendet wird.\n",
    ">\n",
    "> `tidy()` und `glance()` sind zwei Funktionen aus dem `tidymodels`-Paket `broom`. `tidy()` konvertiert statistische Objekte aus `base` in `tibbles`, um die Weiterverarbeitung mit `tidyverse` zu vereinfachen`. `glance()` gibt uns eine *one-row summary* statistischer Modelle aus, ebenfalls als `tibble`."
   ]
  },
  {
   "cell_type": "markdown",
   "id": "028011b5-7ed6-4134-a205-12265704f223",
   "metadata": {},
   "source": [
    "3. Wie würdet ihr die Werte für `r.squared` interpretieren?\n",
    "\n",
    "> `r.squared` ist sehr unterschiedlich groß für die verschiedenen Spezies. Für die Gentoo Pinguine scheint es eine größere Korrelation von `body_mass_g` und `flipper_length_mm` zu geben als bei den anderen beiden Spezies. Ein Werte von $\\approx 0.2$ ist dabei schon sehr niedrig."
   ]
  },
  {
   "cell_type": "markdown",
   "id": "55355b3e-e156-42fa-a2a9-1ba0ca0ce740",
   "metadata": {},
   "source": [
    "4. Schaut euch die Readme-Datei des Datensatzes an und überlegt, welche Variablen von Interesse für eine genauere Untersuchung sein könnten.\n",
    "\n",
    "> Für eine Organisation, die Bike Sharing betreibt, ist vermutlich vor allem die Variable `cnt` interessant. Ebenfalls interessant sein könnten die Anzahl der registrierten Nutzer:innen `registered` und der **casual users** `casual`."
   ]
  },
  {
   "cell_type": "markdown",
   "id": "375879dd-2adf-4e89-bce6-9f80ace49347",
   "metadata": {},
   "source": [
    "5. Was bedeuten die Metriken `rmse` und `mae`?\n",
    "\n",
    ">  * `rmse` steht für den **Root Mean Squared Error**. Der RMSE gewichtet größere Fehler stärker als kleinere. \n",
    ">\n",
    ">  * `mae` steht für den **Mean Absolute Error**. Dieser berechnet die durchschnittlichen Abweichungen zwischen den vorhergesagten und tatsächlichen Werten. Im Gegensatz zum RMSE behandelt der MAE alle Fehler gleich, gibt also eine lineare Repräsentation der Fehler wieder. \n",
    ">\n",
    "> Für beide Metriken indiziert ein niedrigerer Werte also einen besseren Fit des Modells. Je nach Anwendungsfall entscheidet man sich in der Regel entweder für den RMSE oder MAE, je nachdem, wie stark man größere Fehler gewichten möchte."
   ]
  },
  {
   "cell_type": "markdown",
   "id": "4a531239-07b0-4b42-8794-93b8b13c0f5f",
   "metadata": {},
   "source": [
    "6. Schaut im Readme unter `\"data/abalone/abalone.names\"` die Bedeutung der verschiedenen Variablen des Datensatzes nach."
   ]
  },
  {
   "cell_type": "markdown",
   "id": "b9c7a2fa-6397-45e7-b708-8da8b38b2c0b",
   "metadata": {},
   "source": [
    "7. Ladet den Abalone-Datensatz aus dem Pfad `\"data/abalone/abalone.data\"` in einen neuen Dataframe und exploriert die verschiedenen Variablen des Datensatzes.  In Bezug auf das Zitat weiter oben aus der ursprünglichen Veröffentlichung des Datensatzes - welche Variable stellt eine interessante Zielvariable dar?"
   ]
  },
  {
   "cell_type": "code",
   "execution_count": null,
   "id": "9cba09b2-01d9-4bf4-85c0-56caadea81b1",
   "metadata": {},
   "outputs": [],
   "source": [
    "abalone <- read_csv(\"data/abalone/abalone.data\", show_col_types = FALSE) %>%\n",
    "    mutate(sex = as.factor(sex)) %>%\n",
    "    glimpse()"
   ]
  },
  {
   "cell_type": "markdown",
   "id": "53cb8573-06e6-4e95-9a1f-dc48dd268e2b",
   "metadata": {},
   "source": [
    "8. Stellt die verschiedenen Variablen mithilfe von `ggplot2` und `facet_wrap()` dar. Wie sind die Variablen verteilt?"
   ]
  },
  {
   "cell_type": "code",
   "execution_count": null,
   "id": "396e13c4-e0de-48a4-bfc9-5983e774d005",
   "metadata": {},
   "outputs": [],
   "source": [
    "abalone %>%\n",
    "    select(where(is.double)) %>%\n",
    "    pivot_longer(cols = everything(), names_to = \"variable\", values_to = \"value\") %>%\n",
    "    ggplot(aes(x = value)) +\n",
    "        geom_histogram(bins = 30, color = \"black\", fill = \"lightblue\") +\n",
    "        facet_wrap(~variable, scales = \"free\", ncol = 4) +\n",
    "        labs(title = \"Histograms of Numeric Variables in the abalone data set\", x = \"Value\", y = \"Frequency\") +\n",
    "        theme_minimal(base_size = 20)"
   ]
  },
  {
   "cell_type": "markdown",
   "id": "85bb1a97-c350-46dc-b701-c28e67674ae4",
   "metadata": {},
   "source": [
    "9. Teilt den Datensatz mithilfe von `initial_split()` in Trainings- und Testdaten auf. Achtung: ihr dürft lediglich numerische Variablen verwenden – eventuell müsst ihr einige Variablen vorher herausfiltern."
   ]
  },
  {
   "cell_type": "code",
   "execution_count": null,
   "id": "7c3f032b-1dae-476a-b364-b713ac3e2ee0",
   "metadata": {},
   "outputs": [],
   "source": [
    "abalone_split <- abalone %>%\n",
    "    select(-sex) %>%\n",
    "    initial_split(prop = 0.75)"
   ]
  },
  {
   "cell_type": "markdown",
   "id": "2a2cb14b-8902-4dde-a73e-eed6dc0a5284",
   "metadata": {},
   "source": [
    "10. Erstellt mithilfe von `recipe()` ein Rezept für die Trainingsdaten. Findet mithilfe von `step_corr()` heraus, welche Variablen miteinander korrelieren. Diskutiert, warum eine Korrelation zwischen den Variablen naheliegend ist."
   ]
  },
  {
   "cell_type": "code",
   "execution_count": null,
   "id": "65ada11f-f226-4dbe-88e6-8ca8678cee6d",
   "metadata": {},
   "outputs": [],
   "source": [
    "abalone_recipe <- training(abalone_split) %>%\n",
    "    recipe(rings ~.) %>%\n",
    "    step_corr(all_predictors()) %>%\n",
    "    step_center(all_predictors(), -all_outcomes()) %>%\n",
    "    step_scale(all_predictors(), -all_outcomes()) %>%\n",
    "    prep() %>%\n",
    "    print()"
   ]
  },
  {
   "cell_type": "markdown",
   "id": "98059737-9ef7-4c9f-adf4-20554bdd0664",
   "metadata": {},
   "source": [
    "11. Im nächsten Schritt müsst ihr `bake()` und `juice()` verwenden und das vorher erstelle `recipe` auf die Trainings- und Testdaten anwenden."
   ]
  },
  {
   "cell_type": "code",
   "execution_count": null,
   "id": "a1940eff-0d9f-4d83-a993-b6455faa2059",
   "metadata": {},
   "outputs": [],
   "source": [
    "abalone_testing <- abalone_recipe %>%\n",
    "    bake(testing(abalone_split))\n",
    "\n",
    "abalone_training <- abalone_recipe %>%\n",
    "    juice()"
   ]
  },
  {
   "cell_type": "markdown",
   "id": "83203c59-0b73-4509-8987-52b2a56b5172",
   "metadata": {},
   "source": [
    "12. Erstellt ein Modell vom Typ `decision_tree()` mit der Engine `\"rpart\"` und dem Modus `\"regression\"` und trainiert das Modell mit den Trainingsdaten `abalone_training`. Schaut euch anscheinend die Regeln des Modells an und überlegt kurz, welche Prädiktoren wohl eine große Rolle spielen."
   ]
  },
  {
   "cell_type": "code",
   "execution_count": null,
   "id": "b8b97379-1d49-440e-b49a-e68c04f2ba79",
   "metadata": {},
   "outputs": [],
   "source": [
    "abalone_model <- decision_tree() %>%\n",
    "    set_engine(\"rpart\") %>%\n",
    "    set_mode(\"regression\") %>%\n",
    "    fit(rings ~ ., data = abalone_training)\n",
    "\n",
    "abalone_model"
   ]
  },
  {
   "cell_type": "markdown",
   "id": "2e4bd55c-9532-4b64-977d-11ff0f39d27f",
   "metadata": {},
   "source": [
    "13. Berechnet mithilfe der Testdaten `abalone_testing` sowie `predict()` und `metrics()` den R-squared value des Modells. Fragt anschließend ChatGPT oder Google, wie ihr das Ergebnis interpretieren würdet. Ist das Ergebnis gut genug für den Anwendungsfall? Inwiefern hängt die Beantwortung dieser Frage vom Kontext der Fragestellung ab (also der Fachdisziplin)?"
   ]
  },
  {
   "cell_type": "code",
   "execution_count": null,
   "id": "2bad4bcc-62ad-4795-89ee-661dc9337ed4",
   "metadata": {},
   "outputs": [],
   "source": [
    "abalone_model %>%\n",
    "    predict(abalone_testing) %>%\n",
    "    bind_cols(abalone_testing) %>%\n",
    "    metrics(truth = rings, estimate = .pred)"
   ]
  },
  {
   "cell_type": "markdown",
   "id": "fa732742-5eb3-4e78-b546-4f5c3ee144f5",
   "metadata": {},
   "source": [
    "14. Was für ein Alter (Anzahl der Ringe + 1.5) würdet ihr für eine Abalone mit `height = 0.85`, `weight_shucked = 0.6` und `weight_shell = 0.8` vorhersagen? Vergesst nicht, die neuen Daten vorher mit `bake()` zu standardisieren. Was ist der Mean Absolute Error `mae` für das Ergebnis?"
   ]
  },
  {
   "cell_type": "code",
   "execution_count": null,
   "id": "6a563140-9f53-472b-9548-a648ec46f544",
   "metadata": {},
   "outputs": [],
   "source": [
    "abalone %>% summary()"
   ]
  },
  {
   "cell_type": "code",
   "execution_count": null,
   "id": "726700c9-cd61-4640-a38f-bc40bd35c83b",
   "metadata": {},
   "outputs": [],
   "source": [
    "abalone_vorhersage <- tibble(\n",
    "    length = 0.4,\n",
    "    diameter = 0.25,\n",
    "    height = 0.15, \n",
    "    weight_whole = 2.5,\n",
    "    weight_shucked = 0.6, \n",
    "    weight_viscera = 0.3,\n",
    "    weight_shell = 0.3\n",
    ")\n",
    "\n",
    "abalone_vorhersage_standardised <- abalone_recipe %>%\n",
    "    bake(abalone_vorhersage)\n",
    "\n",
    "abalone_model %>%\n",
    "    predict(abalone_vorhersage_standardised) %>%\n",
    "    round(2)"
   ]
  },
  {
   "cell_type": "markdown",
   "id": "b578fd10-73c5-4607-b7df-cbc446c07f7c",
   "metadata": {},
   "source": [
    "## Naiver Bayes Klassifikator"
   ]
  },
  {
   "cell_type": "markdown",
   "id": "37223c66-1fa0-47fd-9b82-6b0cbcb16929",
   "metadata": {},
   "source": [
    "1. Wie viel `ham` und wieviel `spam` ist im Datensatz vorhanden?"
   ]
  },
  {
   "cell_type": "code",
   "execution_count": null,
   "id": "e78955d1-75a8-4445-a5e3-c6a1eef35841",
   "metadata": {},
   "outputs": [],
   "source": [
    "sms %>%\n",
    "    pull(label) %>% # uns interessiert nur die Spalte label\n",
    "    table() %>%\n",
    "    prop.table() %>% # eine Tabelle mit Wahrscheinlichkeiten erstellen\n",
    "    round(3) # auf 3 Nachkommastellen runden"
   ]
  },
  {
   "cell_type": "markdown",
   "id": "3faf45c6-7fd2-437d-92f5-cec50434e4a6",
   "metadata": {},
   "source": [
    "2. Überlegt euch im Kopf, wie ihr eine solche Funktion strukturell aufbauen würdet.\n",
    "\n",
    "> Im Prinzip ist eine solche Funktion relativ simpel. Sie erhält als Argument einfach einen `text_vector`, auf den dann im Folgenden alle **Preprocessing**-Schritte angewendet werden. Das kann z.B. in einer großen Pipe passieren."
   ]
  },
  {
   "cell_type": "markdown",
   "id": "1ca24719-c916-45a8-b7a7-38ff7ebcf488",
   "metadata": {},
   "source": [
    "3. Wie würdet ihr die definierte Funktion mit einer ausgedachten Beispielnachricht testen?"
   ]
  },
  {
   "cell_type": "code",
   "execution_count": null,
   "id": "e3c9c4e6-7df3-4c08-8f66-e590b32c4222",
   "metadata": {},
   "outputs": [],
   "source": [
    "string_cleaner(\"bla bla 042167354644 bla. Have you checked out www.newsflash.org??? L ol WOW\")"
   ]
  },
  {
   "cell_type": "markdown",
   "id": "213e5ff0-be3b-4e92-b862-ea4e9b8413de",
   "metadata": {},
   "source": [
    "4. Lasst euch mithilfe von `slice_sample(n = n)` wieder ein paar Beispiele von `sms_clean` anzeigen anschauen. Welche Spalten enthält unser neue Datensatz?"
   ]
  },
  {
   "cell_type": "code",
   "execution_count": null,
   "id": "e4189464-135c-442c-bb5d-e6446c1f4b0f",
   "metadata": {},
   "outputs": [],
   "source": [
    "sms_clean %>% slice_sample(n = 3)"
   ]
  },
  {
   "cell_type": "markdown",
   "id": "23fe661d-d32e-403c-873d-9087cb208a37",
   "metadata": {},
   "source": [
    "5. Überlegt kurz, welche Möglichkeiten euch zur Visualisierung eines Vokabulars einfallen würden.\n",
    "\n",
    "> Z.B. eine Word-Cloud, oder ein Balkendiagramm mit den häufigsten Begriffen."
   ]
  },
  {
   "cell_type": "markdown",
   "id": "ceca8825-4c8c-47d2-adb9-540d2b10081d",
   "metadata": {},
   "source": [
    "5. Überlegt kurz, welche Möglichkeiten euch zur Visualisierung eines Vokabulars einfallen würden."
   ]
  },
  {
   "cell_type": "code",
   "execution_count": null,
   "id": "7e5b5290-f56e-4b82-849d-def0e71aabe7",
   "metadata": {},
   "outputs": [],
   "source": [
    "create_vocab <- function(data, label) { # Wir übergeben einen Datensatz `data` sowie das Label `label`, auf dass gefiltert werden soll\n",
    "    data %>%\n",
    "        filter(label == !!label) %>% # in der Pipe werden alle Begriffe gefiltert, die dem Argument `label` entsprechen, was wir der Funktion übergeben haben. Durch die Ausrufezeichen wird definiert, dass das Argument der Funktion mit `label` gemeint ist.\n",
    "        select(msg_list) %>% # wähle die Spalte `msg_list` aus\n",
    "        deframe() %>% # Konvertiere das Element von einem `tibble` zu einer Liste\n",
    "        unlist() # Mit `unlist()` wird die Liste zu einem eindimensionalen Vektor geglättet (*flatten*)\n",
    "}\n"
   ]
  },
  {
   "cell_type": "markdown",
   "id": "09d07434-3442-4522-90e8-fc7e50b1cbd6",
   "metadata": {},
   "source": [
    "7. Wieviele einzigartige Wörter sind insgesamt in unserem Vokabular vorhanden?\n",
    "\n",
    "> 7853"
   ]
  },
  {
   "cell_type": "markdown",
   "id": "fe07d30b-7c21-4fa2-98d5-ee8f2d1c35a5",
   "metadata": {},
   "source": [
    "8. Vergleicht Version 1 und Version 2 (ohne stopwords) miteinander."
   ]
  },
  {
   "cell_type": "markdown",
   "id": "7f8da854-3bb2-4e34-85df-bedf3d1e6f2d",
   "metadata": {},
   "source": [
    "9. Wie sieht das ganze aus, wenn ihr den gleichen Graphen getrennt für die Labels `ham` und `spam` erstellt?"
   ]
  },
  {
   "cell_type": "code",
   "execution_count": null,
   "id": "169b6541-072a-4ceb-b0a9-b2a2d8929e17",
   "metadata": {},
   "outputs": [],
   "source": [
    "p1 <- vocab_ham %>% \n",
    "    table() %>%\n",
    "    as_tibble() %>%\n",
    "    rename(word = '.') %>%\n",
    "    anti_join(stop_words, by = \"word\") %>%\n",
    "    arrange(desc(n)) %>%  # Sort by frequency in descending order\n",
    "    top_n(20, n) %>%\n",
    "ggplot(aes(x = reorder(word, n), y = n)) + \n",
    "    geom_col() +  # geom_col is used for creating bar plots\n",
    "    coord_flip() +  # Flip coordinates to have words on the y-axis\n",
    "    labs(x = \"Word\", y = \"Frequency\", title = \"Top 20 Ham\") +\n",
    "    theme_minimal(base_size = 25)  # Use a minimal theme for a clean look\n",
    "\n",
    "p2 <- vocab_spam %>% \n",
    "    table() %>%\n",
    "    as_tibble() %>%\n",
    "    rename(word = '.') %>%\n",
    "    anti_join(stop_words, by = \"word\") %>%\n",
    "    arrange(desc(n)) %>%  # Sort by frequency in descending order\n",
    "    top_n(20, n) %>%\n",
    "ggplot(aes(x = reorder(word, n), y = n)) + \n",
    "    geom_col() +  # geom_col is used for creating bar plots\n",
    "    coord_flip() +  # Flip coordinates to have words on the y-axis\n",
    "    labs(x = \"Word\", y = \"Frequency\", title = \"Top 20 Spam\") +\n",
    "    theme_minimal(base_size = 25)  # Use a minimal theme for a clean look\n",
    "\n",
    "\n",
    "(p1 | p2)"
   ]
  },
  {
   "cell_type": "markdown",
   "id": "b63203ef-b504-4412-855d-4f490c602fe6",
   "metadata": {},
   "source": [
    "10. Wieviele Nachrichten wurden richtig vorhergesagt? Wieviele falsch?\n",
    "\n",
    "> 1025 True Positives, 12 False Positives, 6 False Negatives, 151 True Negatives"
   ]
  },
  {
   "cell_type": "markdown",
   "id": "0d66a02f-3285-4ccf-8bcf-d77f0655a965",
   "metadata": {},
   "source": [
    "## Kmeans"
   ]
  },
  {
   "cell_type": "markdown",
   "id": "63216ae2-3401-47e8-8e5a-dc512e08da54",
   "metadata": {},
   "source": [
    "1. Schaut euch die folgenden beiden Gifs an und versucht, die einzelnen Schritte des Algorithmus qualitativ zu beschreiben.\n",
    "\n",
    "> Der Algorithmus wählt zunächst zufällig Startpunkte für die Cluster aus. Die Anzahl der Cluster wird durch das $k$ gesetzt. Dann versucht der Algorithmus die Clusterpunkte (oder Schwerpunkte) so zu verschieben, dass die Distanz der Datenpunkte zu den Schwerpunkten minimiert wird. In der Regel konvergiert der Algorithmus irgendwann, und es ist nicht möglich, diese Summe weiter zu minimieren. Für eine genauere mathematische Herleitung schaut euch gerne die Vorlesung an."
   ]
  },
  {
   "cell_type": "markdown",
   "id": "b020c41e-7228-4b8d-9cf1-d20cc82d227a",
   "metadata": {},
   "source": [
    "2. Was bedeuten die verschiedenen Variablen, die ihr mit `glance()` ausgegeben bekommt? Schaut dafür in der Dokumentation nach oder fragt eine Suchmaschine/Chatbot. (`totss`, `tot.withinss`, `betweenss`, `iter`).\n",
    "\n",
    "> * `totss` (**Total Sum of Squares**): Misst die Variabilität der Beobachtungen vom Gesamtmittelwert -> repräsentiert die Gesamtvarianz in den Daten\n",
    "> * `tot.withinss` (**Total Within-Cluster Sum of Squares**): Zeigt die Summe der quadrierten Distanzen jeder Beobachtung von ihrem entsprechenden Clusterzentrum an -> repräsentiert die Kompaktheit der Cluster\n",
    "> * `betweenss` (**Between-Cluster Sum of Squares**): Misst die Summe der quadrierten Distanzen zwischen den Clusterzentren und dem Gesamtmittelwert -> repräsentiert, wie sehr die Cluster voneinander getrennt sind.\n",
    "> * `iter` (**Iterations**): Beschreibt die Anzahl der Iterationen, bis der Algorithmus konvergiert."
   ]
  },
  {
   "cell_type": "markdown",
   "id": "df2e6846-c294-457e-a26f-c64fa108a09f",
   "metadata": {},
   "source": [
    "3. Für zukünftige Übungen: was passiert, wenn ihr `augment()`, `tidy()` und `glance()` auf andere Modelle anwendet? Behaltet das mal in Kopf oder macht euch hier Notizen und probiert es nächste Woche in der Wiederholung aus."
   ]
  },
  {
   "cell_type": "markdown",
   "id": "bf2d6504-de93-4dd7-aff7-1271f5bca3b1",
   "metadata": {},
   "source": [
    "4. Wie interpretiert ihr die Grafik? Welche Datenpunkte wurden vom Algorithmus falsch zugeordnet?\n",
    "\n",
    "> Die Datenpunkte, bei denen Form & Farbe nicht übereinstimmen, werden falsch vorhergesagt. Beispiel: wenn die Mehrzahl der viereckigen Datenpunkte blau ist, einige wenige blaue Datenpunkte aber kreisrund sind, dann sind diese falsch vorhergesagt worden."
   ]
  },
  {
   "cell_type": "markdown",
   "id": "008818e4-3aaa-4bbe-833b-f092ac7bb6d5",
   "metadata": {},
   "source": [
    "5. Interpretiert das Diagramm. Welche Werte von $k$ haltet ihr am geeignetsten? Welcher wäre auch noch okay? Wie würdet ihr das begründen?\n",
    "\n",
    "> $k=3$, $k=5$"
   ]
  },
  {
   "cell_type": "markdown",
   "id": "1dd425cf-e7b2-48d3-a866-232f46824c2d",
   "metadata": {},
   "source": [
    "6. Was würde passieren, wenn ihr andere Variablen für `x` und `y` verwendet?\n",
    "\n",
    "> Wir würden das Clustering dann in anderen Dimensionen sehen. Bei mehrdimensionalen Datensätzen ($n > 2$) haben wir immer das Problem, dass wir maximal 3 Dimensionen grafisch sinnvoll darstellen können. Daher kann es hilfreich sein, sich die Clusterverteilung in verschiedenen Dimensionen anzuschauen, also unterschiedliche Variablen auf $x$ und $y$ zu legen."
   ]
  },
  {
   "cell_type": "markdown",
   "id": "eadaa908-8abb-46ee-90d6-e99e9061c988",
   "metadata": {},
   "source": [
    "7. Bei welchem $k$ seht ihr den Ellbogen?\n",
    "\n",
    "> $k=3$"
   ]
  },
  {
   "cell_type": "markdown",
   "id": "ad1a14c7-431b-4145-a892-ca740b897c1a",
   "metadata": {},
   "source": [
    "8. Geht den folgenden Code Zeile für Zeile durch, und überlegt, was jede Zeile macht.\n",
    "\n",
    "```r\n",
    "# Begin the pipeline with the mk8_assignments data frame\n",
    "mk8_assignments %>% \n",
    "\n",
    "    # Filter the data to include only rows where k equals 3\n",
    "    filter(k == 3) %>%\n",
    "\n",
    "    # Group the data by 'speed_normal', 'handling_normal', and 'weight_class'\n",
    "    group_by(speed_normal, handling_normal, weight_class) %>%\n",
    "\n",
    "    # From each group, select the first row\n",
    "    slice(1) %>%\n",
    "\n",
    "    # Start a ggplot, setting aesthetics for the plot:\n",
    "    # x-axis is 'speed_normal', y-axis is 'handling_normal'\n",
    "    # Labels from 'character', point shapes by 'weight_class', point colors by '.cluster'\n",
    "    ggplot(aes(x = speed_normal, y = handling_normal, label = character, shape = weight_class, color = .cluster)) +\n",
    "\n",
    "    # Add scatter plot points with a specified size\n",
    "    geom_point(size = 5) +\n",
    "\n",
    "    # Add labels to the points using geom_label_repel from the ggrepel package\n",
    "    # This ensures labels are repelled from each other to minimize overlap\n",
    "    # The seed is set for consistent label placement, and legend for labels is hidden\n",
    "    ggrepel::geom_label_repel(seed = 1, show.legend = FALSE) +\n",
    "\n",
    "    # Apply a minimalistic theme to the plot with a base font size of 25 for readability\n",
    "    theme_minimal(base_size = 25)\n"
   ]
  },
  {
   "cell_type": "markdown",
   "id": "c00611dd-92af-433e-9dfa-4beb72fc1c62",
   "metadata": {},
   "source": [
    "9. Wie gut funktioniert das Clustering? Wurden alle Charaktere der richtigen Gewichtsklasse zugeordnet?\n",
    "\n",
    "> In den beiden visualisierten Dimensionen `speed_normal` und `handling_normal` hat das Clustering gut funktioniert. Die angezeigten Charaktere wurden alle der richtigen Gewichtsklasse zugeordnet."
   ]
  },
  {
   "cell_type": "markdown",
   "id": "477ed3bb-089a-424f-8743-f8993571f91d",
   "metadata": {},
   "source": [
    "10. Wie sieht das Diagramm aus, wenn ihr zwei andere Variablen gegenüber plottet? An welchen Stellen müsst ihr die Variablen austauschen?\n",
    "\n",
    "> Beispiel - Plotte `acceleration` gegenüber `weight`:\n",
    "\n",
    "```r\n",
    "mk8_assignments %>%\n",
    "    filter(k == 3) %>%\n",
    "    group_by(acceleration, weight, weight_class) %>%\n",
    "    slice(1) %>%\n",
    "    ggplot(aes(x = acceleration, y = weight, label = character, shape = weight_class, color = .cluster)) +\n",
    "    geom_point(size = 5) +\n",
    "    ggrepel::geom_label_repel(seed = 1, show.legend = FALSE) +\n",
    "    theme_minimal(base_size = 25)"
   ]
  },
  {
   "cell_type": "markdown",
   "id": "d766ad58-b845-4cc7-800c-f643b820308f",
   "metadata": {},
   "source": [
    "11. Ladet den Datensatz aus dem Verzeichnis `\"data/iris/iris.data\"`. Benutzt `janitor`, um die Spaltenbezeichnungen möglichst sauber zu halten. Welche Variablen sind im Datensatz vorhanden und welche davon würden wir für ein K-means Clustering verwenden?"
   ]
  },
  {
   "cell_type": "code",
   "execution_count": null,
   "id": "7107ac8e-a39b-4f1e-9151-ef47e0a52026",
   "metadata": {},
   "outputs": [],
   "source": [
    "iris <- read_csv(\"data/iris/iris.data\", show_col_types = FALSE) %>%\n",
    "    janitor::clean_names() %>%\n",
    "    mutate(species = as.factor(species)) %>%\n",
    "    glimpse()"
   ]
  },
  {
   "cell_type": "markdown",
   "id": "e4343011-99ec-44e5-be35-3e1988b90b0e",
   "metadata": {},
   "source": [
    "12. Erstellt wie in der vorangegangenen Beispielen eine Auswertung für verschiedene Werte von $k$ mithilfe der Elbow method. Welches $k$ ist für unser Modell am sinnvollsten?"
   ]
  },
  {
   "cell_type": "code",
   "execution_count": null,
   "id": "2abff60d-d8bd-4bad-aaeb-6b4dda2713d5",
   "metadata": {},
   "outputs": [],
   "source": [
    "iris_kclusts <- tibble(k = 1:9) %>%\n",
    "    mutate(\n",
    "        kclust = map(k, ~kmeans(iris %>% select(-species), .x, iter.max = 30)),\n",
    "        tidied = map(kclust, tidy),\n",
    "        glanced = map(kclust, glance),\n",
    "        augmented = map(kclust, augment, iris)\n",
    "    )"
   ]
  },
  {
   "cell_type": "code",
   "execution_count": null,
   "id": "1b4f44b3-c64a-4de1-9592-cfd43d47a44b",
   "metadata": {},
   "outputs": [],
   "source": [
    "iris_clusterings <- iris_kclusts %>%\n",
    "  unnest(cols = c(glanced))\n",
    "\n",
    "iris_clusterings %>%\n",
    "    ggplot(aes(k, tot.withinss)) +\n",
    "    geom_line(linewidth = 1) +\n",
    "    geom_point(size = 5) +\n",
    "    theme_minimal(base_size = 25)"
   ]
  },
  {
   "cell_type": "markdown",
   "id": "6b08b9b0-10db-4902-b344-cff643a53fd3",
   "metadata": {},
   "source": [
    "13. Wenn ihr das richtige $k$ gefunden habt, erstellt eine grafische Auswertung des Modells. Ihr könnt beispielsweise `sepal_length` auf der x-Achse gegen `sepal_width` auf der y-Achse plotten und die `prediction` als Farbe sowie den tatsächlichen Wert `species` als Form übergeben. Welche Datenpunkte wurden falsch zugeordnet?"
   ]
  },
  {
   "cell_type": "code",
   "execution_count": null,
   "id": "9312ca12-b3d0-4e36-a304-29791690edda",
   "metadata": {},
   "outputs": [],
   "source": [
    "iris_clusters <- iris_kclusts %>%\n",
    "  unnest(cols = c(tidied))\n",
    "\n",
    "iris_assignments <- iris_kclusts %>% \n",
    "  unnest(cols = c(augmented))\n",
    "\n",
    "iris_assignments %>%\n",
    "    filter(k == 3) %>%\n",
    "    ggplot(aes(x = sepal_length, y = sepal_width, shape = species)) +\n",
    "    geom_point(aes(color = .cluster), size = 5) + \n",
    "    theme_minimal(base_size = 25) +\n",
    "    # facet_wrap(~ k) +\n",
    "    geom_point(data = iris_clusters %>% filter(k == 3), size = 15, shape = \"x\") # add data from tidy"
   ]
  },
  {
   "cell_type": "markdown",
   "id": "b62db9b8-a49e-4ad7-bc64-abb9357b2621",
   "metadata": {},
   "source": [
    "14. Wie gut funktioniert K-means in diesem Beispiel in Vergleich zu den vorhergehenden Beispielen?\n",
    "\n",
    "> Bei den `iris`-Daten funktioniert `kmeans` schon etwas schlechter. Der Algorithmus schafft es aber trotzdem, `setosa` und `virginica` einigermaßen voneinander zu trennen. Viele Datenpunkte der Spezies `versicolor` werden allerdings nicht richtig zugeordnet."
   ]
  }
 ],
 "metadata": {
  "kernelspec": {
   "display_name": "R",
   "language": "R",
   "name": "ir"
  },
  "language_info": {
   "codemirror_mode": "r",
   "file_extension": ".r",
   "mimetype": "text/x-r-source",
   "name": "R",
   "pygments_lexer": "r",
   "version": "4.4.1"
  },
  "widgets": {
   "application/vnd.jupyter.widget-state+json": {
    "state": {},
    "version_major": 2,
    "version_minor": 0
   }
  }
 },
 "nbformat": 4,
 "nbformat_minor": 5
}
